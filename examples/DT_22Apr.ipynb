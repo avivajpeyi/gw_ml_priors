{
 "cells": [
  {
   "cell_type": "markdown",
   "metadata": {},
   "source": [
    "# Model training"
   ]
  },
  {
   "cell_type": "markdown",
   "metadata": {},
   "source": [
    "## Load data"
   ]
  },
  {
   "cell_type": "code",
   "execution_count": 2,
   "metadata": {},
   "outputs": [],
   "source": [
    "import matplotlib.pyplot as plt\n",
    "import numpy as np\n",
    "import pandas as pd\n",
    "import tensorflow as tf\n",
    "from tensorflow import keras\n",
    "from tensorflow.keras import layers\n",
    "from tensorflow.keras import Input, Model\n"
   ]
  },
  {
   "cell_type": "code",
   "execution_count": 3,
   "metadata": {},
   "outputs": [],
   "source": [
    "outdir = \"out_p_a1_given_q_xeff\"\n",
    "# import data\n",
    "data = pd.read_pickle(f\"{outdir}/p_a1_given_q_xeff.pkl\")"
   ]
  },
  {
   "cell_type": "code",
   "execution_count": 4,
   "metadata": {},
   "outputs": [
    {
     "data": {
      "text/html": [
       "<div>\n",
       "<style scoped>\n",
       "    .dataframe tbody tr th:only-of-type {\n",
       "        vertical-align: middle;\n",
       "    }\n",
       "\n",
       "    .dataframe tbody tr th {\n",
       "        vertical-align: top;\n",
       "    }\n",
       "\n",
       "    .dataframe thead th {\n",
       "        text-align: right;\n",
       "    }\n",
       "</style>\n",
       "<table border=\"1\" class=\"dataframe\">\n",
       "  <thead>\n",
       "    <tr style=\"text-align: right;\">\n",
       "      <th></th>\n",
       "      <th>q</th>\n",
       "      <th>xeff</th>\n",
       "      <th>a1</th>\n",
       "      <th>p_a1</th>\n",
       "    </tr>\n",
       "  </thead>\n",
       "  <tbody>\n",
       "    <tr>\n",
       "      <th>0</th>\n",
       "      <td>0.0</td>\n",
       "      <td>-1.0</td>\n",
       "      <td>[0.0, 0.002004008016032064, 0.0040080160320641...</td>\n",
       "      <td>[nan, nan, nan, nan, nan, nan, nan, nan, nan, ...</td>\n",
       "    </tr>\n",
       "    <tr>\n",
       "      <th>1</th>\n",
       "      <td>0.0</td>\n",
       "      <td>-0.8</td>\n",
       "      <td>[0.0, 0.002004008016032064, 0.0040080160320641...</td>\n",
       "      <td>[nan, nan, nan, nan, nan, nan, nan, nan, nan, ...</td>\n",
       "    </tr>\n",
       "    <tr>\n",
       "      <th>2</th>\n",
       "      <td>0.0</td>\n",
       "      <td>-0.6</td>\n",
       "      <td>[0.0, 0.002004008016032064, 0.0040080160320641...</td>\n",
       "      <td>[nan, nan, nan, nan, nan, nan, nan, nan, nan, ...</td>\n",
       "    </tr>\n",
       "    <tr>\n",
       "      <th>3</th>\n",
       "      <td>0.0</td>\n",
       "      <td>-0.4</td>\n",
       "      <td>[0.0, 0.002004008016032064, 0.0040080160320641...</td>\n",
       "      <td>[nan, nan, nan, nan, nan, nan, nan, nan, nan, ...</td>\n",
       "    </tr>\n",
       "    <tr>\n",
       "      <th>4</th>\n",
       "      <td>0.0</td>\n",
       "      <td>-0.2</td>\n",
       "      <td>[0.0, 0.002004008016032064, 0.0040080160320641...</td>\n",
       "      <td>[nan, nan, nan, nan, nan, nan, nan, nan, nan, ...</td>\n",
       "    </tr>\n",
       "    <tr>\n",
       "      <th>...</th>\n",
       "      <td>...</td>\n",
       "      <td>...</td>\n",
       "      <td>...</td>\n",
       "      <td>...</td>\n",
       "    </tr>\n",
       "    <tr>\n",
       "      <th>116</th>\n",
       "      <td>1.0</td>\n",
       "      <td>0.2</td>\n",
       "      <td>[0.0, 0.002004008016032064, 0.0040080160320641...</td>\n",
       "      <td>[1.0680033419862862, 1.0678605941877117, 1.067...</td>\n",
       "    </tr>\n",
       "    <tr>\n",
       "      <th>117</th>\n",
       "      <td>1.0</td>\n",
       "      <td>0.4</td>\n",
       "      <td>[0.0, 0.002004008016032064, 0.0040080160320641...</td>\n",
       "      <td>[0.7832345001188603, 0.7843442342552497, 0.784...</td>\n",
       "    </tr>\n",
       "    <tr>\n",
       "      <th>118</th>\n",
       "      <td>1.0</td>\n",
       "      <td>0.6</td>\n",
       "      <td>[0.2064128256513026, 0.2080031807101176, 0.209...</td>\n",
       "      <td>[0.0003581317510958827, 0.0006423405154926148,...</td>\n",
       "    </tr>\n",
       "    <tr>\n",
       "      <th>119</th>\n",
       "      <td>1.0</td>\n",
       "      <td>0.8</td>\n",
       "      <td>[0.6112224448897795, 0.6120015582266737, 0.612...</td>\n",
       "      <td>[0.003378646421929789, 0.004692188317429458, 0...</td>\n",
       "    </tr>\n",
       "    <tr>\n",
       "      <th>120</th>\n",
       "      <td>1.0</td>\n",
       "      <td>1.0</td>\n",
       "      <td>[0.0, 0.002004008016032064, 0.0040080160320641...</td>\n",
       "      <td>[nan, nan, nan, nan, nan, nan, nan, nan, nan, ...</td>\n",
       "    </tr>\n",
       "  </tbody>\n",
       "</table>\n",
       "<p>121 rows × 4 columns</p>\n",
       "</div>"
      ],
      "text/plain": [
       "       q  xeff                                                 a1  \\\n",
       "0    0.0  -1.0  [0.0, 0.002004008016032064, 0.0040080160320641...   \n",
       "1    0.0  -0.8  [0.0, 0.002004008016032064, 0.0040080160320641...   \n",
       "2    0.0  -0.6  [0.0, 0.002004008016032064, 0.0040080160320641...   \n",
       "3    0.0  -0.4  [0.0, 0.002004008016032064, 0.0040080160320641...   \n",
       "4    0.0  -0.2  [0.0, 0.002004008016032064, 0.0040080160320641...   \n",
       "..   ...   ...                                                ...   \n",
       "116  1.0   0.2  [0.0, 0.002004008016032064, 0.0040080160320641...   \n",
       "117  1.0   0.4  [0.0, 0.002004008016032064, 0.0040080160320641...   \n",
       "118  1.0   0.6  [0.2064128256513026, 0.2080031807101176, 0.209...   \n",
       "119  1.0   0.8  [0.6112224448897795, 0.6120015582266737, 0.612...   \n",
       "120  1.0   1.0  [0.0, 0.002004008016032064, 0.0040080160320641...   \n",
       "\n",
       "                                                  p_a1  \n",
       "0    [nan, nan, nan, nan, nan, nan, nan, nan, nan, ...  \n",
       "1    [nan, nan, nan, nan, nan, nan, nan, nan, nan, ...  \n",
       "2    [nan, nan, nan, nan, nan, nan, nan, nan, nan, ...  \n",
       "3    [nan, nan, nan, nan, nan, nan, nan, nan, nan, ...  \n",
       "4    [nan, nan, nan, nan, nan, nan, nan, nan, nan, ...  \n",
       "..                                                 ...  \n",
       "116  [1.0680033419862862, 1.0678605941877117, 1.067...  \n",
       "117  [0.7832345001188603, 0.7843442342552497, 0.784...  \n",
       "118  [0.0003581317510958827, 0.0006423405154926148,...  \n",
       "119  [0.003378646421929789, 0.004692188317429458, 0...  \n",
       "120  [nan, nan, nan, nan, nan, nan, nan, nan, nan, ...  \n",
       "\n",
       "[121 rows x 4 columns]"
      ]
     },
     "execution_count": 4,
     "metadata": {},
     "output_type": "execute_result"
    }
   ],
   "source": [
    "data"
   ]
  },
  {
   "cell_type": "markdown",
   "metadata": {},
   "source": [
    "## Pre-processing"
   ]
  },
  {
   "cell_type": "markdown",
   "metadata": {},
   "source": [
    "### Some data contains nans, drop them so that they wont cause problems later"
   ]
  },
  {
   "cell_type": "code",
   "execution_count": 5,
   "metadata": {},
   "outputs": [],
   "source": [
    "data.drop([0,1,2,3,4,5,6,7,8,9,10,11,21,22,32,33,43,44,54,55,65,66,76,77,87,88,98,99,109,110,120], inplace=True)"
   ]
  },
  {
   "cell_type": "code",
   "execution_count": 6,
   "metadata": {},
   "outputs": [],
   "source": [
    "data.reset_index(drop=True, inplace=True)"
   ]
  },
  {
   "cell_type": "markdown",
   "metadata": {},
   "source": [
    "Stupid way of getting everything to a numpy array with dtyoe = float64"
   ]
  },
  {
   "cell_type": "code",
   "execution_count": 7,
   "metadata": {},
   "outputs": [],
   "source": [
    "# a1\n",
    "a1 = []\n",
    "for i in range(len(data)):\n",
    "    a1.append(data['a1'][i])\n",
    "a1 = np.array(a1)\n",
    "# p\n",
    "p = []\n",
    "for i in range(len(data)):\n",
    "    p.append(data['p_a1'][i])\n",
    "p = np.array(p)\n",
    "# q\n",
    "q = []\n",
    "for i in data['q'].values:\n",
    "    for j in range(len(a1[0])):\n",
    "        q.append(i)\n",
    "q = np.array(q)\n",
    "# xeff \n",
    "xeff = []\n",
    "for i in data['xeff'].values:\n",
    "    for j in range(len(a1[0])):\n",
    "        xeff.append(i)\n",
    "xeff = np.array(xeff)"
   ]
  },
  {
   "cell_type": "code",
   "execution_count": 8,
   "metadata": {},
   "outputs": [
    {
     "name": "stdout",
     "output_type": "stream",
     "text": [
      "(45000,) (45000,)\n"
     ]
    }
   ],
   "source": [
    "print(xeff.shape, q.shape)"
   ]
  },
  {
   "cell_type": "code",
   "execution_count": 9,
   "metadata": {},
   "outputs": [],
   "source": [
    "a1 = a1.flatten()\n",
    "p = p.flatten()"
   ]
  },
  {
   "cell_type": "code",
   "execution_count": 10,
   "metadata": {},
   "outputs": [
    {
     "name": "stdout",
     "output_type": "stream",
     "text": [
      "(45000,) (45000,)\n"
     ]
    }
   ],
   "source": [
    "print(a1.shape, p.shape)"
   ]
  },
  {
   "cell_type": "code",
   "execution_count": 11,
   "metadata": {},
   "outputs": [],
   "source": [
    "# from sklearn.preprocessing import normalize\n",
    "# p_norm = normalize(p,axis=0)"
   ]
  },
  {
   "cell_type": "markdown",
   "metadata": {},
   "source": [
    "### Spliting data into train and test"
   ]
  },
  {
   "cell_type": "code",
   "execution_count": 12,
   "metadata": {},
   "outputs": [],
   "source": [
    "# split into train and test\n",
    "from sklearn.model_selection import train_test_split\n",
    "train_q, test_q, train_xeff, test_xeff, train_p, test_p, train_a1, test_a1 \\\n",
    "= train_test_split(q, xeff, p, a1,\n",
    " test_size=0.2, random_state=42)"
   ]
  },
  {
   "cell_type": "code",
   "execution_count": 13,
   "metadata": {},
   "outputs": [],
   "source": [
    "def eva_model(model):\n",
    "    # evaluate the model\n",
    "    scores = model.evaluate([test_q,test_xeff, test_a1], test_p)\n",
    "    print(\"%s: %.2f%%\" % (model.metrics_names[1], scores[1]*100))\n",
    "    # plot history\n",
    "    plt.plot(history.history['accuracy'])\n",
    "    plt.plot(history.history['val_accuracy'])\n",
    "    plt.title('model accuracy')\n",
    "    plt.ylabel('accuracy')\n",
    "    plt.xlabel('epoch')\n",
    "    plt.legend(['train', 'val'], loc='upper left')\n",
    "    plt.show()\n",
    "    #\n",
    "    plt.plot(history.history['loss'])\n",
    "    plt.plot(history.history['val_loss'])\n",
    "    plt.legend(['train', 'val'], loc='upper left')\n",
    "    plt.xlabel('epoches')\n",
    "    plt.ylabel('loss')\n",
    "    plt.title('model loss')\n",
    "    plt.show()\n",
    "    #\n",
    "    test_p_pred = model.predict([test_q,test_xeff, test_a1])\n",
    "    plt.plot(test_a1[3],test_p_pred[3],label = 'pred',color = 'red')\n",
    "    plt.plot(test_a1[3],test_p[3],label = 'true',color = 'blue')\n",
    "    plt.title(f'prediction vs true p_a1 for q = {test_q[3]}, xeff = {test_xeff[3]}')\n",
    "    plt.legend()\n",
    "    plt.xlabel('a1')\n",
    "    plt.ylabel('p')\n",
    "    plt.show()"
   ]
  },
  {
   "cell_type": "markdown",
   "metadata": {},
   "source": [
    "## Define model"
   ]
  },
  {
   "cell_type": "code",
   "execution_count": 14,
   "metadata": {},
   "outputs": [],
   "source": [
    "# define model which take input of q, xeff, and a and output p\n",
    "Input1 = keras.Input(shape=(1,)) # q xeff\n",
    "Input2 = keras.Input(shape=(1,)) # xeff\n",
    "Input3 = keras.Input(shape=(1)) # a1\n",
    "merged = keras.layers.concatenate([Input1, Input2,Input3]) # Merging Laryer\n",
    "x = keras.layers.Dense(5, activation='relu')(merged) # Fully Connected Layer\n",
    "x = keras.layers.Dropout(0.2)(x)\n",
    "x = keras.layers.BatchNormalization()(x)\n",
    "output = keras.layers.Dense(1, activation='relu')(x) # Fully Connected Layer\n",
    "\n",
    "model = Model(inputs=[Input1,Input2,Input3], outputs=output)"
   ]
  },
  {
   "cell_type": "code",
   "execution_count": 15,
   "metadata": {},
   "outputs": [
    {
     "name": "stdout",
     "output_type": "stream",
     "text": [
      "Epoch 1/10\n",
      "3600/3600 - 3s - loss: 2.8078 - accuracy: 0.0000e+00 - val_loss: 2.3607 - val_accuracy: 0.0000e+00 - 3s/epoch - 835us/step\n",
      "Epoch 2/10\n",
      "3600/3600 - 2s - loss: 2.7761 - accuracy: 0.0000e+00 - val_loss: 2.5551 - val_accuracy: 0.0000e+00 - 2s/epoch - 674us/step\n",
      "Epoch 3/10\n",
      "3600/3600 - 2s - loss: 2.7629 - accuracy: 0.0000e+00 - val_loss: 2.3610 - val_accuracy: 0.0000e+00 - 2s/epoch - 687us/step\n",
      "Epoch 4/10\n",
      "3600/3600 - 2s - loss: 2.7758 - accuracy: 0.0000e+00 - val_loss: 2.4468 - val_accuracy: 0.0000e+00 - 2s/epoch - 673us/step\n",
      "Epoch 5/10\n",
      "3600/3600 - 3s - loss: 2.7678 - accuracy: 0.0000e+00 - val_loss: 2.3258 - val_accuracy: 0.0000e+00 - 3s/epoch - 746us/step\n",
      "Epoch 6/10\n",
      "3600/3600 - 2s - loss: 2.7629 - accuracy: 0.0000e+00 - val_loss: 2.3750 - val_accuracy: 0.0000e+00 - 2s/epoch - 688us/step\n",
      "Epoch 7/10\n",
      "3600/3600 - 2s - loss: 2.7578 - accuracy: 0.0000e+00 - val_loss: 2.5110 - val_accuracy: 0.0000e+00 - 2s/epoch - 690us/step\n",
      "Epoch 8/10\n",
      "3600/3600 - 2s - loss: 2.7696 - accuracy: 0.0000e+00 - val_loss: 2.3979 - val_accuracy: 0.0000e+00 - 2s/epoch - 673us/step\n",
      "Epoch 9/10\n",
      "3600/3600 - 3s - loss: 2.7678 - accuracy: 0.0000e+00 - val_loss: 2.3322 - val_accuracy: 0.0000e+00 - 3s/epoch - 695us/step\n",
      "Epoch 10/10\n",
      "3600/3600 - 2s - loss: 2.7514 - accuracy: 0.0000e+00 - val_loss: 2.6096 - val_accuracy: 0.0000e+00 - 2s/epoch - 671us/step\n"
     ]
    }
   ],
   "source": [
    "opt = keras.optimizers.SGD(learning_rate=0.1)\n",
    "model.compile(optimizer= opt,\n",
    "                loss=tf.keras.losses.MeanSquaredError(),\n",
    "                metrics= ['accuracy'])\n",
    "\n",
    "history = model.fit([train_q,train_xeff,train_a1], train_p, validation_split=0.2,\n",
    "                    epochs=10, batch_size=8, shuffle=True, verbose=2)"
   ]
  },
  {
   "cell_type": "code",
   "execution_count": 16,
   "metadata": {},
   "outputs": [
    {
     "name": "stdout",
     "output_type": "stream",
     "text": [
      "282/282 [==============================] - 0s 1ms/step - loss: 2.6936 - accuracy: 0.0000e+00\n",
      "accuracy: 0.00%\n"
     ]
    },
    {
     "data": {
      "image/png": "[encoded data removed]",
      "text/plain": [
       "<Figure size 432x288 with 1 Axes>"
      ]
     },
     "metadata": {
      "needs_background": "light"
     },
     "output_type": "display_data"
    },
    {
     "data": {
      "image/png": "[encoded data removed]",
      "text/plain": [
       "<Figure size 432x288 with 1 Axes>"
      ]
     },
     "metadata": {
      "needs_background": "light"
     },
     "output_type": "display_data"
    },
    {
     "data": {
      "image/png": "[encoded data removed]",
      "text/plain": [
       "<Figure size 432x288 with 1 Axes>"
      ]
     },
     "metadata": {
      "needs_background": "light"
     },
     "output_type": "display_data"
    }
   ],
   "source": [
    "eva_model(model)"
   ]
  }
 ],
 "metadata": {
  "interpreter": {
   "hash": "541143602329a03f71f32a0a160c785fb8ee263553dc2658377783b6f80d17e9"
  },
  "kernelspec": {
   "display_name": "Python 3.8.5",
   "language": "python",
   "name": "python3"
  },
  "language_info": {
   "codemirror_mode": {
    "name": "ipython",
    "version": 3
   },
   "file_extension": ".py",
   "mimetype": "text/x-python",
   "name": "python",
   "nbconvert_exporter": "python",
   "pygments_lexer": "ipython3",
   "version": "3.8.5"
  },
  "orig_nbformat": 4
 },
 "nbformat": 4,
 "nbformat_minor": 2
}
