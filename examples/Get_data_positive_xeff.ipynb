{
 "cells": [
  {
   "cell_type": "code",
   "execution_count": 1,
   "metadata": {},
   "outputs": [],
   "source": [
    "import gw_ml_priors"
   ]
  },
  {
   "cell_type": "code",
   "execution_count": 2,
   "metadata": {},
   "outputs": [],
   "source": [
    "import multiprocessing\n",
    "import os\n",
    "import shutil\n",
    "import h5py\n",
    "import matplotlib.pyplot as plt\n",
    "import numpy as np\n",
    "import pandas as pd\n",
    "from bilby.core.prior import Interped\n",
    "from joblib import Parallel, delayed\n",
    "from numpy.random import uniform as unif\n",
    "from tqdm.auto import tqdm\n",
    "\n",
    "from gw_ml_priors.conversions import calc_a2\n",
    "from gw_ml_priors.regressors.scikit_regressor import ScikitRegressor\n",
    "\n",
    "NUM_CORES = multiprocessing.cpu_count()\n",
    "\n",
    "\n",
    "def get_a1_prior(xeff, q, mcmc_n=int(1e5)):\n",
    "    a1s = np.linspace(0, 1, 500)\n",
    "    da1 = a1s[1] - a1s[0]\n",
    "    p_a1 = Parallel(n_jobs=NUM_CORES, verbose=1)(\n",
    "        delayed(get_p_a1_given_xeff_q)(a1, xeff, q, mcmc_n)\n",
    "        for a1 in tqdm(a1s, desc=\"Building a1 cache\")\n",
    "    )\n",
    "    p_a1 = p_a1 / np.sum(p_a1) / da1\n",
    "    data = pd.DataFrame(dict(a1=a1s, p_a1=p_a1))\n",
    "    a1 = data.a1.values\n",
    "    p_a1 = norm_values(data.p_a1.values, a1)\n",
    "    min_b, max_b = find_boundary(a1, p_a1)\n",
    "    return Interped(\n",
    "        xx=a1, yy=p_a1, minimum=min_b, maximum=max_b, name=\"a_1\", latex_label=r\"$a_1$\"\n",
    "    )\n",
    "\n",
    "\n",
    "def get_p_a1_given_xeff_q(a1, xeff, q, n=int(1e4)):\n",
    "    cos1, cos2 = unif(-1, 1, n), unif(-1, 1, n)\n",
    "    a2 = calc_a2(xeff=xeff, q=q, cos1=cos1, cos2=cos2, a1=a1)\n",
    "    integrand = a2_interpreter_function(a2)\n",
    "    return np.mean(integrand)\n",
    "\n",
    "\n",
    "def find_nearest(array, value):\n",
    "    array = np.asarray(array)\n",
    "    idx = (np.abs(array - value)).argmin()\n",
    "    return array[idx]\n",
    "\n",
    "\n",
    "def find_boundary_idx(x):\n",
    "    \"\"\"finds idx where data is non zero (assumes that there wont be gaps)\"\"\"\n",
    "    non_z = np.nonzero(x)[0]\n",
    "    return non_z[0], non_z[-1]\n",
    "\n",
    "\n",
    "def norm_values(y, x):\n",
    "    return y / np.trapz(y, x)\n",
    "\n",
    "\n",
    "def find_boundary(x, y):\n",
    "    b1, b2 = find_boundary_idx(y)\n",
    "    vals = [x[b1], x[b2]]\n",
    "    start, end = min(vals), max(vals)\n",
    "    return start, end\n",
    "\n",
    "\n",
    "def a2_interpreter_function(a2):\n",
    "    return np.where(((0 < a2) & (a2 < 1)), 1, 0)\n",
    "\n",
    "\n"
   ]
  },
  {
   "cell_type": "code",
   "execution_count": 3,
   "metadata": {},
   "outputs": [],
   "source": [
    "\n",
    "# outdir = \"out_p_a1_given_q_xeff\"\n",
    "# os.makedirs(outdir, exist_ok=True)\n",
    "# q, xeff = 0.5, -0.4\n",
    "# a1_prior = get_a1_prior(q=q, xeff=xeff)\n",
    "# plt.plot(a1_prior.xx, a1_prior.yy)\n",
    "# plt.xlabel(\"a1\")\n",
    "# plt.ylabel(f\"p(a1|q={q},xeff={xeff})\")\n",
    "\n",
    "## TODO: train ML model to generate p(a1|xeff,q) for different q, xeff"
   ]
  },
  {
   "cell_type": "code",
   "execution_count": 21,
   "metadata": {},
   "outputs": [
    {
     "name": "stdout",
     "output_type": "stream",
     "text": [
      "[0.  0.1 0.2 0.3 0.4 0.5 0.6 0.7 0.8 0.9 1. ]\n",
      "[-1.  -0.8 -0.6 -0.4 -0.2  0.   0.2  0.4  0.6  0.8  1. ]\n"
     ]
    }
   ],
   "source": [
    "# q_range = np.linspace(0, 1, 11)    # q range 0 to 1\n",
    "# xeff_range = np.linspace(-1, 1, 11)  # xeff range -1 to 1\n",
    "# print(q_range)\n",
    "# print(xeff_range)"
   ]
  },
  {
   "cell_type": "code",
   "execution_count": 5,
   "metadata": {},
   "outputs": [
    {
     "name": "stdout",
     "output_type": "stream",
     "text": [
      "[0.1 0.2 0.3 0.4 0.5 0.6 0.7 0.8 0.9 1. ]\n",
      "[0.1 0.2 0.3 0.4 0.5 0.6 0.7 0.8 0.9]\n"
     ]
    }
   ],
   "source": [
    "q_range = np.array([0.1,0.2,0.3,0.4,0.5,0.6,0.7,0.8,0.9,1])\n",
    "xeff_range = np.array([0.1,0.2,0.3,0.4,0.5,0.6,0.7,0.8,0.9])\n",
    "print(q_range)\n",
    "print(xeff_range)"
   ]
  },
  {
   "cell_type": "markdown",
   "metadata": {},
   "source": [
    "### Generate data and save"
   ]
  },
  {
   "cell_type": "code",
   "execution_count": 7,
   "metadata": {},
   "outputs": [],
   "source": [
    "outdir = \"out_pisitive_xeff\"\n",
    "os.makedirs(outdir, exist_ok=True)"
   ]
  },
  {
   "cell_type": "code",
   "execution_count": 9,
   "metadata": {},
   "outputs": [
    {
     "name": "stderr",
     "output_type": "stream",
     "text": []
    },
    {
     "name": "stdout",
     "output_type": "stream",
     "text": [
      "q=0.1, xeff=0.1\n"
     ]
    },
    {
     "name": "stderr",
     "output_type": "stream",
     "text": [
      "[Parallel(n_jobs=8)]: Using backend LokyBackend with 8 concurrent workers.\n",
      "[Parallel(n_jobs=8)]: Done  34 tasks      | elapsed:    7.4s\n",
      "[Parallel(n_jobs=8)]: Done 184 tasks      | elapsed:   15.6s\n",
      "[Parallel(n_jobs=8)]: Done 434 tasks      | elapsed:   29.9s\n",
      "Building a1 cache: 100%|██████████| 500/500 [00:32<00:00, 15.31it/s]\n",
      "[Parallel(n_jobs=8)]: Done 500 out of 500 | elapsed:   33.6s finished\n",
      "[Parallel(n_jobs=8)]: Using backend LokyBackend with 8 concurrent workers.\n"
     ]
    },
    {
     "name": "stdout",
     "output_type": "stream",
     "text": [
      "q=0.1, xeff=0.2\n"
     ]
    },
    {
     "name": "stderr",
     "output_type": "stream",
     "text": [
      "[Parallel(n_jobs=8)]: Done  34 tasks      | elapsed:    2.4s\n",
      "[Parallel(n_jobs=8)]: Done 184 tasks      | elapsed:   10.9s\n",
      "[Parallel(n_jobs=8)]: Done 434 tasks      | elapsed:   25.7s\n",
      "Building a1 cache: 100%|██████████| 500/500 [00:28<00:00, 17.53it/s]\n",
      "[Parallel(n_jobs=8)]: Done 500 out of 500 | elapsed:   29.4s finished\n",
      "[Parallel(n_jobs=8)]: Using backend LokyBackend with 8 concurrent workers.\n"
     ]
    },
    {
     "name": "stdout",
     "output_type": "stream",
     "text": [
      "q=0.1, xeff=0.3\n"
     ]
    },
    {
     "name": "stderr",
     "output_type": "stream",
     "text": [
      "[Parallel(n_jobs=8)]: Done  34 tasks      | elapsed:    2.6s\n",
      "[Parallel(n_jobs=8)]: Done 184 tasks      | elapsed:   11.3s\n",
      "[Parallel(n_jobs=8)]: Done 434 tasks      | elapsed:   25.8s\n",
      "Building a1 cache: 100%|██████████| 500/500 [00:28<00:00, 17.32it/s]\n",
      "[Parallel(n_jobs=8)]: Done 500 out of 500 | elapsed:   29.9s finished\n"
     ]
    },
    {
     "name": "stdout",
     "output_type": "stream",
     "text": [
      "q=0.1, xeff=0.4\n"
     ]
    },
    {
     "name": "stderr",
     "output_type": "stream",
     "text": [
      "[Parallel(n_jobs=8)]: Using backend LokyBackend with 8 concurrent workers.\n",
      "[Parallel(n_jobs=8)]: Done  34 tasks      | elapsed:    2.6s\n",
      "[Parallel(n_jobs=8)]: Done 184 tasks      | elapsed:   11.8s\n",
      "[Parallel(n_jobs=8)]: Done 434 tasks      | elapsed:   27.1s\n",
      "Building a1 cache: 100%|██████████| 500/500 [00:29<00:00, 16.83it/s]\n",
      "[Parallel(n_jobs=8)]: Done 500 out of 500 | elapsed:   30.6s finished\n",
      "[Parallel(n_jobs=8)]: Using backend LokyBackend with 8 concurrent workers.\n"
     ]
    },
    {
     "name": "stdout",
     "output_type": "stream",
     "text": [
      "q=0.1, xeff=0.5\n"
     ]
    },
    {
     "name": "stderr",
     "output_type": "stream",
     "text": [
      "[Parallel(n_jobs=8)]: Done  34 tasks      | elapsed:    2.4s\n",
      "[Parallel(n_jobs=8)]: Done 184 tasks      | elapsed:   10.7s\n",
      "[Parallel(n_jobs=8)]: Done 434 tasks      | elapsed:   24.8s\n",
      "Building a1 cache: 100%|██████████| 500/500 [00:27<00:00, 18.26it/s]\n",
      "[Parallel(n_jobs=8)]: Done 500 out of 500 | elapsed:   28.3s finished\n",
      "[Parallel(n_jobs=8)]: Using backend LokyBackend with 8 concurrent workers.\n"
     ]
    },
    {
     "name": "stdout",
     "output_type": "stream",
     "text": [
      "q=0.1, xeff=0.6\n"
     ]
    },
    {
     "name": "stderr",
     "output_type": "stream",
     "text": [
      "[Parallel(n_jobs=8)]: Done  34 tasks      | elapsed:    2.3s\n",
      "[Parallel(n_jobs=8)]: Done 184 tasks      | elapsed:   10.5s\n",
      "[Parallel(n_jobs=8)]: Done 434 tasks      | elapsed:   24.7s\n",
      "Building a1 cache: 100%|██████████| 500/500 [00:27<00:00, 18.26it/s]\n",
      "[Parallel(n_jobs=8)]: Done 500 out of 500 | elapsed:   28.3s finished\n",
      "[Parallel(n_jobs=8)]: Using backend LokyBackend with 8 concurrent workers.\n"
     ]
    },
    {
     "name": "stdout",
     "output_type": "stream",
     "text": [
      "q=0.1, xeff=0.7\n"
     ]
    },
    {
     "name": "stderr",
     "output_type": "stream",
     "text": [
      "[Parallel(n_jobs=8)]: Done  34 tasks      | elapsed:    2.4s\n",
      "[Parallel(n_jobs=8)]: Done 184 tasks      | elapsed:   10.8s\n",
      "[Parallel(n_jobs=8)]: Done 434 tasks      | elapsed:   24.8s\n",
      "Building a1 cache: 100%|██████████| 500/500 [00:27<00:00, 18.18it/s]\n",
      "[Parallel(n_jobs=8)]: Done 500 out of 500 | elapsed:   28.3s finished\n",
      "[Parallel(n_jobs=8)]: Using backend LokyBackend with 8 concurrent workers.\n"
     ]
    },
    {
     "name": "stdout",
     "output_type": "stream",
     "text": [
      "q=0.1, xeff=0.8\n"
     ]
    },
    {
     "name": "stderr",
     "output_type": "stream",
     "text": [
      "[Parallel(n_jobs=8)]: Done  34 tasks      | elapsed:    2.2s\n",
      "[Parallel(n_jobs=8)]: Done 184 tasks      | elapsed:   10.5s\n",
      "[Parallel(n_jobs=8)]: Done 434 tasks      | elapsed:   24.9s\n",
      "Building a1 cache: 100%|██████████| 500/500 [00:27<00:00, 18.13it/s]\n",
      "[Parallel(n_jobs=8)]: Done 500 out of 500 | elapsed:   28.5s finished\n",
      "[Parallel(n_jobs=8)]: Using backend LokyBackend with 8 concurrent workers.\n"
     ]
    },
    {
     "name": "stdout",
     "output_type": "stream",
     "text": [
      "q=0.1, xeff=0.9\n"
     ]
    },
    {
     "name": "stderr",
     "output_type": "stream",
     "text": [
      "[Parallel(n_jobs=8)]: Done  34 tasks      | elapsed:    2.3s\n",
      "[Parallel(n_jobs=8)]: Done 184 tasks      | elapsed:   10.9s\n",
      "[Parallel(n_jobs=8)]: Done 434 tasks      | elapsed:   24.6s\n",
      "Building a1 cache: 100%|██████████| 500/500 [00:27<00:00, 18.40it/s]\n",
      "[Parallel(n_jobs=8)]: Done 500 out of 500 | elapsed:   28.0s finished\n",
      "[Parallel(n_jobs=8)]: Using backend LokyBackend with 8 concurrent workers.\n"
     ]
    },
    {
     "name": "stdout",
     "output_type": "stream",
     "text": [
      "q=0.2, xeff=0.1\n"
     ]
    },
    {
     "name": "stderr",
     "output_type": "stream",
     "text": [
      "[Parallel(n_jobs=8)]: Done  34 tasks      | elapsed:    2.2s\n",
      "[Parallel(n_jobs=8)]: Done 184 tasks      | elapsed:   10.3s\n",
      "[Parallel(n_jobs=8)]: Done 434 tasks      | elapsed:   23.7s\n",
      "Building a1 cache: 100%|██████████| 500/500 [00:26<00:00, 19.00it/s]\n",
      "[Parallel(n_jobs=8)]: Done 500 out of 500 | elapsed:   27.2s finished\n",
      "[Parallel(n_jobs=8)]: Using backend LokyBackend with 8 concurrent workers.\n"
     ]
    },
    {
     "name": "stdout",
     "output_type": "stream",
     "text": [
      "q=0.2, xeff=0.2\n"
     ]
    },
    {
     "name": "stderr",
     "output_type": "stream",
     "text": [
      "[Parallel(n_jobs=8)]: Done  34 tasks      | elapsed:    2.3s\n",
      "[Parallel(n_jobs=8)]: Done 184 tasks      | elapsed:   10.2s\n",
      "[Parallel(n_jobs=8)]: Done 434 tasks      | elapsed:   23.8s\n",
      "Building a1 cache: 100%|██████████| 500/500 [00:26<00:00, 18.96it/s]\n",
      "[Parallel(n_jobs=8)]: Done 500 out of 500 | elapsed:   27.3s finished\n",
      "[Parallel(n_jobs=8)]: Using backend LokyBackend with 8 concurrent workers.\n"
     ]
    },
    {
     "name": "stdout",
     "output_type": "stream",
     "text": [
      "q=0.2, xeff=0.3\n"
     ]
    },
    {
     "name": "stderr",
     "output_type": "stream",
     "text": [
      "[Parallel(n_jobs=8)]: Done  34 tasks      | elapsed:    2.2s\n",
      "[Parallel(n_jobs=8)]: Done 184 tasks      | elapsed:   10.2s\n",
      "[Parallel(n_jobs=8)]: Done 434 tasks      | elapsed:   24.7s\n",
      "Building a1 cache: 100%|██████████| 500/500 [00:27<00:00, 18.20it/s]\n",
      "[Parallel(n_jobs=8)]: Done 500 out of 500 | elapsed:   28.4s finished\n",
      "[Parallel(n_jobs=8)]: Using backend LokyBackend with 8 concurrent workers.\n"
     ]
    },
    {
     "name": "stdout",
     "output_type": "stream",
     "text": [
      "q=0.2, xeff=0.4\n"
     ]
    },
    {
     "name": "stderr",
     "output_type": "stream",
     "text": [
      "[Parallel(n_jobs=8)]: Done  34 tasks      | elapsed:    2.4s\n",
      "[Parallel(n_jobs=8)]: Done 184 tasks      | elapsed:   10.8s\n",
      "[Parallel(n_jobs=8)]: Done 434 tasks      | elapsed:   24.1s\n",
      "Building a1 cache: 100%|██████████| 500/500 [00:26<00:00, 18.80it/s]\n",
      "[Parallel(n_jobs=8)]: Done 500 out of 500 | elapsed:   27.4s finished\n",
      "[Parallel(n_jobs=8)]: Using backend LokyBackend with 8 concurrent workers.\n"
     ]
    },
    {
     "name": "stdout",
     "output_type": "stream",
     "text": [
      "q=0.2, xeff=0.5\n"
     ]
    },
    {
     "name": "stderr",
     "output_type": "stream",
     "text": [
      "[Parallel(n_jobs=8)]: Done  34 tasks      | elapsed:    2.3s\n",
      "[Parallel(n_jobs=8)]: Done 184 tasks      | elapsed:   10.0s\n",
      "[Parallel(n_jobs=8)]: Done 434 tasks      | elapsed:   23.4s\n",
      "Building a1 cache: 100%|██████████| 500/500 [00:25<00:00, 19.24it/s]\n",
      "[Parallel(n_jobs=8)]: Done 500 out of 500 | elapsed:   26.8s finished\n",
      "[Parallel(n_jobs=8)]: Using backend LokyBackend with 8 concurrent workers.\n"
     ]
    },
    {
     "name": "stdout",
     "output_type": "stream",
     "text": [
      "q=0.2, xeff=0.6\n"
     ]
    },
    {
     "name": "stderr",
     "output_type": "stream",
     "text": [
      "[Parallel(n_jobs=8)]: Done  34 tasks      | elapsed:    2.1s\n",
      "[Parallel(n_jobs=8)]: Done 184 tasks      | elapsed:   10.0s\n",
      "[Parallel(n_jobs=8)]: Done 434 tasks      | elapsed:   23.2s\n",
      "Building a1 cache: 100%|██████████| 500/500 [00:25<00:00, 19.32it/s]\n",
      "[Parallel(n_jobs=8)]: Done 500 out of 500 | elapsed:   26.7s finished\n",
      "[Parallel(n_jobs=8)]: Using backend LokyBackend with 8 concurrent workers.\n"
     ]
    },
    {
     "name": "stdout",
     "output_type": "stream",
     "text": [
      "q=0.2, xeff=0.7\n"
     ]
    },
    {
     "name": "stderr",
     "output_type": "stream",
     "text": [
      "[Parallel(n_jobs=8)]: Done  34 tasks      | elapsed:    2.2s\n",
      "[Parallel(n_jobs=8)]: Done 184 tasks      | elapsed:   10.0s\n",
      "[Parallel(n_jobs=8)]: Done 434 tasks      | elapsed:   23.4s\n",
      "Building a1 cache: 100%|██████████| 500/500 [00:25<00:00, 19.34it/s]\n",
      "[Parallel(n_jobs=8)]: Done 500 out of 500 | elapsed:   26.7s finished\n",
      "[Parallel(n_jobs=8)]: Using backend LokyBackend with 8 concurrent workers.\n"
     ]
    },
    {
     "name": "stdout",
     "output_type": "stream",
     "text": [
      "q=0.2, xeff=0.8\n"
     ]
    },
    {
     "name": "stderr",
     "output_type": "stream",
     "text": [
      "[Parallel(n_jobs=8)]: Done  34 tasks      | elapsed:    2.4s\n",
      "[Parallel(n_jobs=8)]: Done 184 tasks      | elapsed:   11.4s\n",
      "[Parallel(n_jobs=8)]: Done 434 tasks      | elapsed:   25.3s\n",
      "Building a1 cache: 100%|██████████| 500/500 [00:27<00:00, 17.87it/s]\n",
      "[Parallel(n_jobs=8)]: Done 500 out of 500 | elapsed:   28.9s finished\n",
      "[Parallel(n_jobs=8)]: Using backend LokyBackend with 8 concurrent workers.\n"
     ]
    },
    {
     "name": "stdout",
     "output_type": "stream",
     "text": [
      "q=0.2, xeff=0.9\n"
     ]
    },
    {
     "name": "stderr",
     "output_type": "stream",
     "text": [
      "[Parallel(n_jobs=8)]: Done  34 tasks      | elapsed:    2.6s\n",
      "[Parallel(n_jobs=8)]: Done 184 tasks      | elapsed:   10.5s\n",
      "[Parallel(n_jobs=8)]: Done 434 tasks      | elapsed:   24.0s\n",
      "Building a1 cache: 100%|██████████| 500/500 [00:26<00:00, 18.81it/s]\n",
      "[Parallel(n_jobs=8)]: Done 500 out of 500 | elapsed:   27.4s finished\n",
      "[Parallel(n_jobs=8)]: Using backend LokyBackend with 8 concurrent workers.\n"
     ]
    },
    {
     "name": "stdout",
     "output_type": "stream",
     "text": [
      "q=0.3, xeff=0.1\n"
     ]
    },
    {
     "name": "stderr",
     "output_type": "stream",
     "text": [
      "[Parallel(n_jobs=8)]: Done  34 tasks      | elapsed:    2.2s\n",
      "[Parallel(n_jobs=8)]: Done 184 tasks      | elapsed:    9.9s\n",
      "[Parallel(n_jobs=8)]: Done 434 tasks      | elapsed:   23.5s\n",
      "Building a1 cache: 100%|██████████| 500/500 [00:25<00:00, 19.26it/s]\n",
      "[Parallel(n_jobs=8)]: Done 500 out of 500 | elapsed:   26.8s finished\n",
      "[Parallel(n_jobs=8)]: Using backend LokyBackend with 8 concurrent workers.\n"
     ]
    },
    {
     "name": "stdout",
     "output_type": "stream",
     "text": [
      "q=0.3, xeff=0.2\n"
     ]
    },
    {
     "name": "stderr",
     "output_type": "stream",
     "text": [
      "[Parallel(n_jobs=8)]: Done  34 tasks      | elapsed:    2.2s\n",
      "[Parallel(n_jobs=8)]: Done 184 tasks      | elapsed:   10.1s\n",
      "[Parallel(n_jobs=8)]: Done 434 tasks      | elapsed:   23.4s\n",
      "Building a1 cache: 100%|██████████| 500/500 [00:26<00:00, 19.20it/s]\n",
      "[Parallel(n_jobs=8)]: Done 500 out of 500 | elapsed:   26.9s finished\n",
      "[Parallel(n_jobs=8)]: Using backend LokyBackend with 8 concurrent workers.\n"
     ]
    },
    {
     "name": "stdout",
     "output_type": "stream",
     "text": [
      "q=0.3, xeff=0.3\n"
     ]
    },
    {
     "name": "stderr",
     "output_type": "stream",
     "text": [
      "[Parallel(n_jobs=8)]: Done  34 tasks      | elapsed:    2.2s\n",
      "[Parallel(n_jobs=8)]: Done 184 tasks      | elapsed:   10.3s\n",
      "[Parallel(n_jobs=8)]: Done 434 tasks      | elapsed:   24.0s\n",
      "Building a1 cache: 100%|██████████| 500/500 [00:26<00:00, 18.89it/s]\n",
      "[Parallel(n_jobs=8)]: Done 500 out of 500 | elapsed:   27.4s finished\n",
      "[Parallel(n_jobs=8)]: Using backend LokyBackend with 8 concurrent workers.\n"
     ]
    },
    {
     "name": "stdout",
     "output_type": "stream",
     "text": [
      "q=0.3, xeff=0.4\n"
     ]
    },
    {
     "name": "stderr",
     "output_type": "stream",
     "text": [
      "[Parallel(n_jobs=8)]: Done  34 tasks      | elapsed:    2.3s\n",
      "[Parallel(n_jobs=8)]: Done 184 tasks      | elapsed:   11.0s\n",
      "[Parallel(n_jobs=8)]: Done 434 tasks      | elapsed:   26.1s\n",
      "Building a1 cache: 100%|██████████| 500/500 [00:28<00:00, 17.40it/s]\n",
      "[Parallel(n_jobs=8)]: Done 500 out of 500 | elapsed:   29.6s finished\n",
      "[Parallel(n_jobs=8)]: Using backend LokyBackend with 8 concurrent workers.\n"
     ]
    },
    {
     "name": "stdout",
     "output_type": "stream",
     "text": [
      "q=0.3, xeff=0.5\n"
     ]
    },
    {
     "name": "stderr",
     "output_type": "stream",
     "text": [
      "[Parallel(n_jobs=8)]: Done  34 tasks      | elapsed:    2.3s\n",
      "[Parallel(n_jobs=8)]: Done 184 tasks      | elapsed:   10.5s\n",
      "[Parallel(n_jobs=8)]: Done 434 tasks      | elapsed:   24.5s\n",
      "Building a1 cache: 100%|██████████| 500/500 [00:27<00:00, 18.42it/s]\n",
      "[Parallel(n_jobs=8)]: Done 500 out of 500 | elapsed:   28.1s finished\n",
      "[Parallel(n_jobs=8)]: Using backend LokyBackend with 8 concurrent workers.\n"
     ]
    },
    {
     "name": "stdout",
     "output_type": "stream",
     "text": [
      "q=0.3, xeff=0.6\n"
     ]
    },
    {
     "name": "stderr",
     "output_type": "stream",
     "text": [
      "[Parallel(n_jobs=8)]: Done  34 tasks      | elapsed:    2.2s\n",
      "[Parallel(n_jobs=8)]: Done 184 tasks      | elapsed:   10.4s\n",
      "[Parallel(n_jobs=8)]: Done 434 tasks      | elapsed:   24.5s\n",
      "Building a1 cache: 100%|██████████| 500/500 [00:27<00:00, 18.37it/s]\n",
      "[Parallel(n_jobs=8)]: Done 500 out of 500 | elapsed:   28.1s finished\n",
      "[Parallel(n_jobs=8)]: Using backend LokyBackend with 8 concurrent workers.\n"
     ]
    },
    {
     "name": "stdout",
     "output_type": "stream",
     "text": [
      "q=0.3, xeff=0.7\n"
     ]
    },
    {
     "name": "stderr",
     "output_type": "stream",
     "text": [
      "[Parallel(n_jobs=8)]: Done  34 tasks      | elapsed:    2.4s\n",
      "[Parallel(n_jobs=8)]: Done 184 tasks      | elapsed:   11.1s\n",
      "[Parallel(n_jobs=8)]: Done 434 tasks      | elapsed:   26.7s\n",
      "Building a1 cache: 100%|██████████| 500/500 [00:29<00:00, 16.86it/s]\n",
      "[Parallel(n_jobs=8)]: Done 500 out of 500 | elapsed:   30.7s finished\n",
      "[Parallel(n_jobs=8)]: Using backend LokyBackend with 8 concurrent workers.\n"
     ]
    },
    {
     "name": "stdout",
     "output_type": "stream",
     "text": [
      "q=0.3, xeff=0.8\n"
     ]
    },
    {
     "name": "stderr",
     "output_type": "stream",
     "text": [
      "[Parallel(n_jobs=8)]: Done  34 tasks      | elapsed:    2.7s\n",
      "[Parallel(n_jobs=8)]: Done 184 tasks      | elapsed:   10.9s\n",
      "[Parallel(n_jobs=8)]: Done 434 tasks      | elapsed:   24.9s\n",
      "Building a1 cache: 100%|██████████| 500/500 [00:27<00:00, 18.19it/s]\n",
      "[Parallel(n_jobs=8)]: Done 500 out of 500 | elapsed:   28.4s finished\n",
      "[Parallel(n_jobs=8)]: Using backend LokyBackend with 8 concurrent workers.\n"
     ]
    },
    {
     "name": "stdout",
     "output_type": "stream",
     "text": [
      "q=0.3, xeff=0.9\n"
     ]
    },
    {
     "name": "stderr",
     "output_type": "stream",
     "text": [
      "[Parallel(n_jobs=8)]: Done  34 tasks      | elapsed:    2.3s\n",
      "[Parallel(n_jobs=8)]: Done 184 tasks      | elapsed:   10.5s\n",
      "[Parallel(n_jobs=8)]: Done 434 tasks      | elapsed:   24.4s\n",
      "Building a1 cache: 100%|██████████| 500/500 [00:27<00:00, 18.42it/s]\n",
      "[Parallel(n_jobs=8)]: Done 500 out of 500 | elapsed:   28.0s finished\n",
      "[Parallel(n_jobs=8)]: Using backend LokyBackend with 8 concurrent workers.\n"
     ]
    },
    {
     "name": "stdout",
     "output_type": "stream",
     "text": [
      "q=0.4, xeff=0.1\n"
     ]
    },
    {
     "name": "stderr",
     "output_type": "stream",
     "text": [
      "[Parallel(n_jobs=8)]: Done  34 tasks      | elapsed:    2.4s\n",
      "[Parallel(n_jobs=8)]: Done 184 tasks      | elapsed:   10.6s\n",
      "[Parallel(n_jobs=8)]: Done 434 tasks      | elapsed:   24.7s\n",
      "Building a1 cache: 100%|██████████| 500/500 [00:27<00:00, 18.34it/s]\n",
      "[Parallel(n_jobs=8)]: Done 500 out of 500 | elapsed:   28.1s finished\n",
      "[Parallel(n_jobs=8)]: Using backend LokyBackend with 8 concurrent workers.\n"
     ]
    },
    {
     "name": "stdout",
     "output_type": "stream",
     "text": [
      "q=0.4, xeff=0.2\n"
     ]
    },
    {
     "name": "stderr",
     "output_type": "stream",
     "text": [
      "[Parallel(n_jobs=8)]: Done  34 tasks      | elapsed:    2.2s\n",
      "[Parallel(n_jobs=8)]: Done 184 tasks      | elapsed:   10.4s\n",
      "[Parallel(n_jobs=8)]: Done 434 tasks      | elapsed:   24.4s\n",
      "Building a1 cache: 100%|██████████| 500/500 [00:27<00:00, 18.40it/s]\n",
      "[Parallel(n_jobs=8)]: Done 500 out of 500 | elapsed:   27.9s finished\n",
      "[Parallel(n_jobs=8)]: Using backend LokyBackend with 8 concurrent workers.\n"
     ]
    },
    {
     "name": "stdout",
     "output_type": "stream",
     "text": [
      "q=0.4, xeff=0.3\n"
     ]
    },
    {
     "name": "stderr",
     "output_type": "stream",
     "text": [
      "[Parallel(n_jobs=8)]: Done  34 tasks      | elapsed:    2.3s\n",
      "[Parallel(n_jobs=8)]: Done 184 tasks      | elapsed:   10.6s\n",
      "[Parallel(n_jobs=8)]: Done 434 tasks      | elapsed:   24.5s\n",
      "Building a1 cache: 100%|██████████| 500/500 [00:27<00:00, 18.43it/s]\n",
      "[Parallel(n_jobs=8)]: Done 500 out of 500 | elapsed:   28.1s finished\n",
      "[Parallel(n_jobs=8)]: Using backend LokyBackend with 8 concurrent workers.\n"
     ]
    },
    {
     "name": "stdout",
     "output_type": "stream",
     "text": [
      "q=0.4, xeff=0.4\n"
     ]
    },
    {
     "name": "stderr",
     "output_type": "stream",
     "text": [
      "[Parallel(n_jobs=8)]: Done  34 tasks      | elapsed:    2.2s\n",
      "[Parallel(n_jobs=8)]: Done 184 tasks      | elapsed:   10.5s\n",
      "[Parallel(n_jobs=8)]: Done 434 tasks      | elapsed:   24.5s\n",
      "Building a1 cache: 100%|██████████| 500/500 [00:27<00:00, 18.34it/s]\n",
      "[Parallel(n_jobs=8)]: Done 500 out of 500 | elapsed:   28.1s finished\n",
      "[Parallel(n_jobs=8)]: Using backend LokyBackend with 8 concurrent workers.\n"
     ]
    },
    {
     "name": "stdout",
     "output_type": "stream",
     "text": [
      "q=0.4, xeff=0.5\n"
     ]
    },
    {
     "name": "stderr",
     "output_type": "stream",
     "text": [
      "[Parallel(n_jobs=8)]: Done  34 tasks      | elapsed:    2.4s\n",
      "[Parallel(n_jobs=8)]: Done 184 tasks      | elapsed:   10.7s\n",
      "[Parallel(n_jobs=8)]: Done 434 tasks      | elapsed:   24.9s\n",
      "Building a1 cache: 100%|██████████| 500/500 [00:27<00:00, 18.14it/s]\n",
      "[Parallel(n_jobs=8)]: Done 500 out of 500 | elapsed:   28.4s finished\n",
      "[Parallel(n_jobs=8)]: Using backend LokyBackend with 8 concurrent workers.\n"
     ]
    },
    {
     "name": "stdout",
     "output_type": "stream",
     "text": [
      "q=0.4, xeff=0.6\n"
     ]
    },
    {
     "name": "stderr",
     "output_type": "stream",
     "text": [
      "[Parallel(n_jobs=8)]: Done  34 tasks      | elapsed:    2.2s\n",
      "[Parallel(n_jobs=8)]: Done 184 tasks      | elapsed:   10.5s\n",
      "[Parallel(n_jobs=8)]: Done 434 tasks      | elapsed:   25.0s\n",
      "Building a1 cache: 100%|██████████| 500/500 [00:27<00:00, 18.05it/s]\n",
      "[Parallel(n_jobs=8)]: Done 500 out of 500 | elapsed:   28.6s finished\n",
      "[Parallel(n_jobs=8)]: Using backend LokyBackend with 8 concurrent workers.\n"
     ]
    },
    {
     "name": "stdout",
     "output_type": "stream",
     "text": [
      "q=0.4, xeff=0.7\n"
     ]
    },
    {
     "name": "stderr",
     "output_type": "stream",
     "text": [
      "[Parallel(n_jobs=8)]: Done  34 tasks      | elapsed:    2.3s\n",
      "[Parallel(n_jobs=8)]: Done 184 tasks      | elapsed:   10.6s\n",
      "[Parallel(n_jobs=8)]: Done 434 tasks      | elapsed:   24.7s\n",
      "Building a1 cache: 100%|██████████| 500/500 [00:27<00:00, 18.34it/s]\n",
      "[Parallel(n_jobs=8)]: Done 500 out of 500 | elapsed:   28.1s finished\n",
      "[Parallel(n_jobs=8)]: Using backend LokyBackend with 8 concurrent workers.\n"
     ]
    },
    {
     "name": "stdout",
     "output_type": "stream",
     "text": [
      "q=0.4, xeff=0.8\n"
     ]
    },
    {
     "name": "stderr",
     "output_type": "stream",
     "text": [
      "[Parallel(n_jobs=8)]: Done  34 tasks      | elapsed:    2.2s\n",
      "[Parallel(n_jobs=8)]: Done 184 tasks      | elapsed:   10.4s\n",
      "[Parallel(n_jobs=8)]: Done 434 tasks      | elapsed:   24.5s\n",
      "Building a1 cache: 100%|██████████| 500/500 [00:27<00:00, 18.26it/s]\n",
      "[Parallel(n_jobs=8)]: Done 500 out of 500 | elapsed:   28.4s finished\n"
     ]
    },
    {
     "name": "stdout",
     "output_type": "stream",
     "text": [
      "q=0.4, xeff=0.9\n"
     ]
    },
    {
     "name": "stderr",
     "output_type": "stream",
     "text": [
      "[Parallel(n_jobs=8)]: Using backend LokyBackend with 8 concurrent workers.\n",
      "[Parallel(n_jobs=8)]: Done  34 tasks      | elapsed:    2.6s\n",
      "[Parallel(n_jobs=8)]: Done 184 tasks      | elapsed:   11.2s\n",
      "[Parallel(n_jobs=8)]: Done 434 tasks      | elapsed:   26.4s\n",
      "Building a1 cache: 100%|██████████| 500/500 [00:29<00:00, 16.83it/s]\n",
      "[Parallel(n_jobs=8)]: Done 500 out of 500 | elapsed:   31.2s finished\n",
      "[Parallel(n_jobs=8)]: Using backend LokyBackend with 8 concurrent workers.\n"
     ]
    },
    {
     "name": "stdout",
     "output_type": "stream",
     "text": [
      "q=0.5, xeff=0.1\n"
     ]
    },
    {
     "name": "stderr",
     "output_type": "stream",
     "text": [
      "[Parallel(n_jobs=8)]: Done  34 tasks      | elapsed:    2.5s\n",
      "[Parallel(n_jobs=8)]: Done 184 tasks      | elapsed:   12.1s\n",
      "[Parallel(n_jobs=8)]: Done 434 tasks      | elapsed:   30.3s\n",
      "Building a1 cache: 100%|██████████| 500/500 [00:33<00:00, 14.90it/s]\n",
      "[Parallel(n_jobs=8)]: Done 500 out of 500 | elapsed:   34.4s finished\n",
      "[Parallel(n_jobs=8)]: Using backend LokyBackend with 8 concurrent workers.\n"
     ]
    },
    {
     "name": "stdout",
     "output_type": "stream",
     "text": [
      "q=0.5, xeff=0.2\n"
     ]
    },
    {
     "name": "stderr",
     "output_type": "stream",
     "text": [
      "[Parallel(n_jobs=8)]: Done  34 tasks      | elapsed:    2.8s\n",
      "[Parallel(n_jobs=8)]: Done 184 tasks      | elapsed:   12.6s\n",
      "[Parallel(n_jobs=8)]: Done 434 tasks      | elapsed:   28.7s\n",
      "Building a1 cache: 100%|██████████| 500/500 [00:31<00:00, 15.93it/s]\n",
      "[Parallel(n_jobs=8)]: Done 500 out of 500 | elapsed:   32.3s finished\n",
      "[Parallel(n_jobs=8)]: Using backend LokyBackend with 8 concurrent workers.\n"
     ]
    },
    {
     "name": "stdout",
     "output_type": "stream",
     "text": [
      "q=0.5, xeff=0.3\n"
     ]
    },
    {
     "name": "stderr",
     "output_type": "stream",
     "text": [
      "[Parallel(n_jobs=8)]: Done  34 tasks      | elapsed:    2.7s\n",
      "[Parallel(n_jobs=8)]: Done 184 tasks      | elapsed:   12.1s\n",
      "[Parallel(n_jobs=8)]: Done 434 tasks      | elapsed:   27.1s\n",
      "Building a1 cache: 100%|██████████| 500/500 [00:29<00:00, 16.73it/s]\n",
      "[Parallel(n_jobs=8)]: Done 500 out of 500 | elapsed:   31.0s finished\n",
      "[Parallel(n_jobs=8)]: Using backend LokyBackend with 8 concurrent workers.\n"
     ]
    },
    {
     "name": "stdout",
     "output_type": "stream",
     "text": [
      "q=0.5, xeff=0.4\n"
     ]
    },
    {
     "name": "stderr",
     "output_type": "stream",
     "text": [
      "[Parallel(n_jobs=8)]: Done  34 tasks      | elapsed:    2.4s\n",
      "[Parallel(n_jobs=8)]: Done 184 tasks      | elapsed:   11.3s\n",
      "[Parallel(n_jobs=8)]: Done 434 tasks      | elapsed:   25.2s\n",
      "Building a1 cache: 100%|██████████| 500/500 [00:27<00:00, 17.86it/s]\n",
      "[Parallel(n_jobs=8)]: Done 500 out of 500 | elapsed:   28.8s finished\n",
      "[Parallel(n_jobs=8)]: Using backend LokyBackend with 8 concurrent workers.\n"
     ]
    },
    {
     "name": "stdout",
     "output_type": "stream",
     "text": [
      "q=0.5, xeff=0.5\n"
     ]
    },
    {
     "name": "stderr",
     "output_type": "stream",
     "text": [
      "[Parallel(n_jobs=8)]: Done  34 tasks      | elapsed:    2.3s\n",
      "[Parallel(n_jobs=8)]: Done 184 tasks      | elapsed:   10.4s\n",
      "[Parallel(n_jobs=8)]: Done 434 tasks      | elapsed:   24.2s\n",
      "Building a1 cache: 100%|██████████| 500/500 [00:26<00:00, 18.64it/s]\n",
      "[Parallel(n_jobs=8)]: Done 500 out of 500 | elapsed:   27.8s finished\n",
      "[Parallel(n_jobs=8)]: Using backend LokyBackend with 8 concurrent workers.\n"
     ]
    },
    {
     "name": "stdout",
     "output_type": "stream",
     "text": [
      "q=0.5, xeff=0.6\n"
     ]
    },
    {
     "name": "stderr",
     "output_type": "stream",
     "text": [
      "[Parallel(n_jobs=8)]: Done  34 tasks      | elapsed:    2.3s\n",
      "[Parallel(n_jobs=8)]: Done 184 tasks      | elapsed:   10.5s\n",
      "[Parallel(n_jobs=8)]: Done 434 tasks      | elapsed:   24.4s\n",
      "Building a1 cache: 100%|██████████| 500/500 [00:26<00:00, 18.52it/s]\n",
      "[Parallel(n_jobs=8)]: Done 500 out of 500 | elapsed:   28.0s finished\n",
      "[Parallel(n_jobs=8)]: Using backend LokyBackend with 8 concurrent workers.\n"
     ]
    },
    {
     "name": "stdout",
     "output_type": "stream",
     "text": [
      "q=0.5, xeff=0.7\n"
     ]
    },
    {
     "name": "stderr",
     "output_type": "stream",
     "text": [
      "[Parallel(n_jobs=8)]: Done  34 tasks      | elapsed:    2.3s\n",
      "[Parallel(n_jobs=8)]: Done 184 tasks      | elapsed:   10.4s\n",
      "[Parallel(n_jobs=8)]: Done 434 tasks      | elapsed:   24.5s\n",
      "Building a1 cache: 100%|██████████| 500/500 [00:27<00:00, 18.49it/s]\n",
      "[Parallel(n_jobs=8)]: Done 500 out of 500 | elapsed:   27.9s finished\n",
      "[Parallel(n_jobs=8)]: Using backend LokyBackend with 8 concurrent workers.\n"
     ]
    },
    {
     "name": "stdout",
     "output_type": "stream",
     "text": [
      "q=0.5, xeff=0.8\n"
     ]
    },
    {
     "name": "stderr",
     "output_type": "stream",
     "text": [
      "[Parallel(n_jobs=8)]: Done  34 tasks      | elapsed:    2.9s\n",
      "[Parallel(n_jobs=8)]: Done 184 tasks      | elapsed:   11.6s\n",
      "[Parallel(n_jobs=8)]: Done 434 tasks      | elapsed:   26.0s\n",
      "Building a1 cache: 100%|██████████| 500/500 [00:29<00:00, 16.90it/s]\n",
      "[Parallel(n_jobs=8)]: Done 500 out of 500 | elapsed:   30.8s finished\n",
      "[Parallel(n_jobs=8)]: Using backend LokyBackend with 8 concurrent workers.\n"
     ]
    },
    {
     "name": "stdout",
     "output_type": "stream",
     "text": [
      "q=0.5, xeff=0.9\n"
     ]
    },
    {
     "name": "stderr",
     "output_type": "stream",
     "text": [
      "[Parallel(n_jobs=8)]: Done  34 tasks      | elapsed:    2.5s\n",
      "[Parallel(n_jobs=8)]: Done 184 tasks      | elapsed:   10.8s\n",
      "[Parallel(n_jobs=8)]: Done 434 tasks      | elapsed:   26.7s\n",
      "Building a1 cache: 100%|██████████| 500/500 [00:30<00:00, 16.60it/s]\n",
      "[Parallel(n_jobs=8)]: Done 500 out of 500 | elapsed:   31.2s finished\n",
      "[Parallel(n_jobs=8)]: Using backend LokyBackend with 8 concurrent workers.\n"
     ]
    },
    {
     "name": "stdout",
     "output_type": "stream",
     "text": [
      "q=0.6, xeff=0.1\n"
     ]
    },
    {
     "name": "stderr",
     "output_type": "stream",
     "text": [
      "[Parallel(n_jobs=8)]: Done  34 tasks      | elapsed:    2.6s\n",
      "[Parallel(n_jobs=8)]: Done 184 tasks      | elapsed:   11.8s\n",
      "[Parallel(n_jobs=8)]: Done 434 tasks      | elapsed:   26.4s\n",
      "Building a1 cache: 100%|██████████| 500/500 [00:29<00:00, 17.18it/s]\n",
      "[Parallel(n_jobs=8)]: Done 500 out of 500 | elapsed:   30.0s finished\n",
      "[Parallel(n_jobs=8)]: Using backend LokyBackend with 8 concurrent workers.\n"
     ]
    },
    {
     "name": "stdout",
     "output_type": "stream",
     "text": [
      "q=0.6, xeff=0.2\n"
     ]
    },
    {
     "name": "stderr",
     "output_type": "stream",
     "text": [
      "[Parallel(n_jobs=8)]: Done  34 tasks      | elapsed:    2.7s\n",
      "[Parallel(n_jobs=8)]: Done 184 tasks      | elapsed:   11.0s\n",
      "[Parallel(n_jobs=8)]: Done 434 tasks      | elapsed:   25.1s\n",
      "Building a1 cache: 100%|██████████| 500/500 [00:27<00:00, 17.91it/s]\n",
      "[Parallel(n_jobs=8)]: Done 500 out of 500 | elapsed:   28.8s finished\n",
      "[Parallel(n_jobs=8)]: Using backend LokyBackend with 8 concurrent workers.\n"
     ]
    },
    {
     "name": "stdout",
     "output_type": "stream",
     "text": [
      "q=0.6, xeff=0.3\n"
     ]
    },
    {
     "name": "stderr",
     "output_type": "stream",
     "text": [
      "[Parallel(n_jobs=8)]: Done  34 tasks      | elapsed:    2.3s\n",
      "[Parallel(n_jobs=8)]: Done 184 tasks      | elapsed:   10.6s\n",
      "[Parallel(n_jobs=8)]: Done 434 tasks      | elapsed:   24.9s\n",
      "Building a1 cache: 100%|██████████| 500/500 [00:27<00:00, 18.09it/s]\n",
      "[Parallel(n_jobs=8)]: Done 500 out of 500 | elapsed:   28.5s finished\n",
      "[Parallel(n_jobs=8)]: Using backend LokyBackend with 8 concurrent workers.\n"
     ]
    },
    {
     "name": "stdout",
     "output_type": "stream",
     "text": [
      "q=0.6, xeff=0.4\n"
     ]
    },
    {
     "name": "stderr",
     "output_type": "stream",
     "text": [
      "[Parallel(n_jobs=8)]: Done  34 tasks      | elapsed:    2.4s\n",
      "[Parallel(n_jobs=8)]: Done 184 tasks      | elapsed:   10.8s\n",
      "[Parallel(n_jobs=8)]: Done 434 tasks      | elapsed:   24.9s\n",
      "Building a1 cache: 100%|██████████| 500/500 [00:27<00:00, 18.05it/s]\n",
      "[Parallel(n_jobs=8)]: Done 500 out of 500 | elapsed:   28.5s finished\n",
      "[Parallel(n_jobs=8)]: Using backend LokyBackend with 8 concurrent workers.\n"
     ]
    },
    {
     "name": "stdout",
     "output_type": "stream",
     "text": [
      "q=0.6, xeff=0.5\n"
     ]
    },
    {
     "name": "stderr",
     "output_type": "stream",
     "text": [
      "[Parallel(n_jobs=8)]: Done  34 tasks      | elapsed:    2.3s\n",
      "[Parallel(n_jobs=8)]: Done 184 tasks      | elapsed:   10.6s\n",
      "[Parallel(n_jobs=8)]: Done 434 tasks      | elapsed:   24.9s\n",
      "Building a1 cache: 100%|██████████| 500/500 [00:27<00:00, 18.18it/s]\n",
      "[Parallel(n_jobs=8)]: Done 500 out of 500 | elapsed:   28.4s finished\n",
      "[Parallel(n_jobs=8)]: Using backend LokyBackend with 8 concurrent workers.\n"
     ]
    },
    {
     "name": "stdout",
     "output_type": "stream",
     "text": [
      "q=0.6, xeff=0.6\n"
     ]
    },
    {
     "name": "stderr",
     "output_type": "stream",
     "text": [
      "[Parallel(n_jobs=8)]: Done  34 tasks      | elapsed:    2.4s\n",
      "[Parallel(n_jobs=8)]: Done 184 tasks      | elapsed:   10.8s\n",
      "[Parallel(n_jobs=8)]: Done 434 tasks      | elapsed:   24.8s\n",
      "Building a1 cache: 100%|██████████| 500/500 [00:27<00:00, 18.18it/s]\n",
      "[Parallel(n_jobs=8)]: Done 500 out of 500 | elapsed:   28.4s finished\n",
      "[Parallel(n_jobs=8)]: Using backend LokyBackend with 8 concurrent workers.\n"
     ]
    },
    {
     "name": "stdout",
     "output_type": "stream",
     "text": [
      "q=0.6, xeff=0.7\n"
     ]
    },
    {
     "name": "stderr",
     "output_type": "stream",
     "text": [
      "[Parallel(n_jobs=8)]: Done  34 tasks      | elapsed:    2.4s\n",
      "[Parallel(n_jobs=8)]: Done 184 tasks      | elapsed:   10.6s\n",
      "[Parallel(n_jobs=8)]: Done 434 tasks      | elapsed:   24.9s\n",
      "Building a1 cache: 100%|██████████| 500/500 [00:27<00:00, 18.07it/s]\n",
      "[Parallel(n_jobs=8)]: Done 500 out of 500 | elapsed:   28.5s finished\n",
      "[Parallel(n_jobs=8)]: Using backend LokyBackend with 8 concurrent workers.\n"
     ]
    },
    {
     "name": "stdout",
     "output_type": "stream",
     "text": [
      "q=0.6, xeff=0.8\n"
     ]
    },
    {
     "name": "stderr",
     "output_type": "stream",
     "text": [
      "[Parallel(n_jobs=8)]: Done  34 tasks      | elapsed:    2.4s\n",
      "[Parallel(n_jobs=8)]: Done 184 tasks      | elapsed:   10.7s\n",
      "[Parallel(n_jobs=8)]: Done 434 tasks      | elapsed:   24.9s\n",
      "Building a1 cache: 100%|██████████| 500/500 [00:27<00:00, 18.13it/s]\n",
      "[Parallel(n_jobs=8)]: Done 500 out of 500 | elapsed:   28.4s finished\n",
      "[Parallel(n_jobs=8)]: Using backend LokyBackend with 8 concurrent workers.\n"
     ]
    },
    {
     "name": "stdout",
     "output_type": "stream",
     "text": [
      "q=0.6, xeff=0.9\n"
     ]
    },
    {
     "name": "stderr",
     "output_type": "stream",
     "text": [
      "[Parallel(n_jobs=8)]: Done  34 tasks      | elapsed:    2.4s\n",
      "[Parallel(n_jobs=8)]: Done 184 tasks      | elapsed:   10.7s\n",
      "[Parallel(n_jobs=8)]: Done 434 tasks      | elapsed:   26.2s\n",
      "Building a1 cache: 100%|██████████| 500/500 [00:28<00:00, 17.27it/s]\n",
      "[Parallel(n_jobs=8)]: Done 500 out of 500 | elapsed:   29.8s finished\n",
      "[Parallel(n_jobs=8)]: Using backend LokyBackend with 8 concurrent workers.\n"
     ]
    },
    {
     "name": "stdout",
     "output_type": "stream",
     "text": [
      "q=0.7, xeff=0.1\n"
     ]
    },
    {
     "name": "stderr",
     "output_type": "stream",
     "text": [
      "[Parallel(n_jobs=8)]: Done  34 tasks      | elapsed:    2.4s\n",
      "[Parallel(n_jobs=8)]: Done 184 tasks      | elapsed:   10.7s\n",
      "[Parallel(n_jobs=8)]: Done 434 tasks      | elapsed:   24.8s\n",
      "Building a1 cache: 100%|██████████| 500/500 [00:27<00:00, 18.18it/s]\n",
      "[Parallel(n_jobs=8)]: Done 500 out of 500 | elapsed:   28.4s finished\n",
      "[Parallel(n_jobs=8)]: Using backend LokyBackend with 8 concurrent workers.\n"
     ]
    },
    {
     "name": "stdout",
     "output_type": "stream",
     "text": [
      "q=0.7, xeff=0.2\n"
     ]
    },
    {
     "name": "stderr",
     "output_type": "stream",
     "text": [
      "[Parallel(n_jobs=8)]: Done  34 tasks      | elapsed:    2.3s\n",
      "[Parallel(n_jobs=8)]: Done 184 tasks      | elapsed:   10.6s\n",
      "[Parallel(n_jobs=8)]: Done 434 tasks      | elapsed:   24.8s\n",
      "Building a1 cache: 100%|██████████| 500/500 [00:27<00:00, 18.14it/s]\n",
      "[Parallel(n_jobs=8)]: Done 500 out of 500 | elapsed:   28.4s finished\n",
      "[Parallel(n_jobs=8)]: Using backend LokyBackend with 8 concurrent workers.\n"
     ]
    },
    {
     "name": "stdout",
     "output_type": "stream",
     "text": [
      "q=0.7, xeff=0.3\n"
     ]
    },
    {
     "name": "stderr",
     "output_type": "stream",
     "text": [
      "[Parallel(n_jobs=8)]: Done  34 tasks      | elapsed:    2.4s\n",
      "[Parallel(n_jobs=8)]: Done 184 tasks      | elapsed:   10.8s\n",
      "[Parallel(n_jobs=8)]: Done 434 tasks      | elapsed:   24.9s\n",
      "Building a1 cache: 100%|██████████| 500/500 [00:27<00:00, 18.08it/s]\n",
      "[Parallel(n_jobs=8)]: Done 500 out of 500 | elapsed:   28.5s finished\n",
      "[Parallel(n_jobs=8)]: Using backend LokyBackend with 8 concurrent workers.\n"
     ]
    },
    {
     "name": "stdout",
     "output_type": "stream",
     "text": [
      "q=0.7, xeff=0.4\n"
     ]
    },
    {
     "name": "stderr",
     "output_type": "stream",
     "text": [
      "[Parallel(n_jobs=8)]: Done  34 tasks      | elapsed:    2.3s\n",
      "[Parallel(n_jobs=8)]: Done 184 tasks      | elapsed:   10.6s\n",
      "[Parallel(n_jobs=8)]: Done 434 tasks      | elapsed:   24.7s\n",
      "Building a1 cache: 100%|██████████| 500/500 [00:27<00:00, 18.30it/s]\n",
      "[Parallel(n_jobs=8)]: Done 500 out of 500 | elapsed:   28.2s finished\n",
      "[Parallel(n_jobs=8)]: Using backend LokyBackend with 8 concurrent workers.\n"
     ]
    },
    {
     "name": "stdout",
     "output_type": "stream",
     "text": [
      "q=0.7, xeff=0.5\n"
     ]
    },
    {
     "name": "stderr",
     "output_type": "stream",
     "text": [
      "[Parallel(n_jobs=8)]: Done  34 tasks      | elapsed:    2.3s\n",
      "[Parallel(n_jobs=8)]: Done 184 tasks      | elapsed:   10.7s\n",
      "[Parallel(n_jobs=8)]: Done 434 tasks      | elapsed:   24.8s\n",
      "Building a1 cache: 100%|██████████| 500/500 [00:27<00:00, 18.14it/s]\n",
      "[Parallel(n_jobs=8)]: Done 500 out of 500 | elapsed:   28.4s finished\n",
      "[Parallel(n_jobs=8)]: Using backend LokyBackend with 8 concurrent workers.\n"
     ]
    },
    {
     "name": "stdout",
     "output_type": "stream",
     "text": [
      "q=0.7, xeff=0.6\n"
     ]
    },
    {
     "name": "stderr",
     "output_type": "stream",
     "text": [
      "[Parallel(n_jobs=8)]: Done  34 tasks      | elapsed:    2.4s\n",
      "[Parallel(n_jobs=8)]: Done 184 tasks      | elapsed:   10.9s\n",
      "[Parallel(n_jobs=8)]: Done 434 tasks      | elapsed:   24.9s\n",
      "Building a1 cache: 100%|██████████| 500/500 [00:27<00:00, 18.12it/s]\n",
      "[Parallel(n_jobs=8)]: Done 500 out of 500 | elapsed:   28.5s finished\n",
      "[Parallel(n_jobs=8)]: Using backend LokyBackend with 8 concurrent workers.\n"
     ]
    },
    {
     "name": "stdout",
     "output_type": "stream",
     "text": [
      "q=0.7, xeff=0.7\n"
     ]
    },
    {
     "name": "stderr",
     "output_type": "stream",
     "text": [
      "[Parallel(n_jobs=8)]: Done  34 tasks      | elapsed:    2.4s\n",
      "[Parallel(n_jobs=8)]: Done 184 tasks      | elapsed:   10.8s\n",
      "[Parallel(n_jobs=8)]: Done 434 tasks      | elapsed:   25.1s\n",
      "Building a1 cache: 100%|██████████| 500/500 [00:27<00:00, 17.96it/s]\n",
      "[Parallel(n_jobs=8)]: Done 500 out of 500 | elapsed:   28.8s finished\n",
      "[Parallel(n_jobs=8)]: Using backend LokyBackend with 8 concurrent workers.\n"
     ]
    },
    {
     "name": "stdout",
     "output_type": "stream",
     "text": [
      "q=0.7, xeff=0.8\n"
     ]
    },
    {
     "name": "stderr",
     "output_type": "stream",
     "text": [
      "[Parallel(n_jobs=8)]: Done  34 tasks      | elapsed:    2.3s\n",
      "[Parallel(n_jobs=8)]: Done 184 tasks      | elapsed:   10.5s\n",
      "[Parallel(n_jobs=8)]: Done 434 tasks      | elapsed:   24.7s\n",
      "Building a1 cache: 100%|██████████| 500/500 [00:27<00:00, 18.30it/s]\n",
      "[Parallel(n_jobs=8)]: Done 500 out of 500 | elapsed:   28.2s finished\n",
      "[Parallel(n_jobs=8)]: Using backend LokyBackend with 8 concurrent workers.\n"
     ]
    },
    {
     "name": "stdout",
     "output_type": "stream",
     "text": [
      "q=0.7, xeff=0.9\n"
     ]
    },
    {
     "name": "stderr",
     "output_type": "stream",
     "text": [
      "[Parallel(n_jobs=8)]: Done  34 tasks      | elapsed:    2.6s\n",
      "[Parallel(n_jobs=8)]: Done 184 tasks      | elapsed:   10.9s\n",
      "[Parallel(n_jobs=8)]: Done 434 tasks      | elapsed:   25.2s\n",
      "Building a1 cache: 100%|██████████| 500/500 [00:27<00:00, 17.90it/s]\n",
      "[Parallel(n_jobs=8)]: Done 500 out of 500 | elapsed:   28.8s finished\n",
      "[Parallel(n_jobs=8)]: Using backend LokyBackend with 8 concurrent workers.\n"
     ]
    },
    {
     "name": "stdout",
     "output_type": "stream",
     "text": [
      "q=0.8, xeff=0.1\n"
     ]
    },
    {
     "name": "stderr",
     "output_type": "stream",
     "text": [
      "[Parallel(n_jobs=8)]: Done  34 tasks      | elapsed:    2.3s\n",
      "[Parallel(n_jobs=8)]: Done 184 tasks      | elapsed:   10.7s\n",
      "[Parallel(n_jobs=8)]: Done 434 tasks      | elapsed:   25.3s\n",
      "Building a1 cache: 100%|██████████| 500/500 [00:27<00:00, 17.87it/s]\n",
      "[Parallel(n_jobs=8)]: Done 500 out of 500 | elapsed:   28.9s finished\n",
      "[Parallel(n_jobs=8)]: Using backend LokyBackend with 8 concurrent workers.\n"
     ]
    },
    {
     "name": "stdout",
     "output_type": "stream",
     "text": [
      "q=0.8, xeff=0.2\n"
     ]
    },
    {
     "name": "stderr",
     "output_type": "stream",
     "text": [
      "[Parallel(n_jobs=8)]: Done  34 tasks      | elapsed:    2.4s\n",
      "[Parallel(n_jobs=8)]: Done 184 tasks      | elapsed:   10.7s\n",
      "[Parallel(n_jobs=8)]: Done 434 tasks      | elapsed:   25.0s\n",
      "Building a1 cache: 100%|██████████| 500/500 [00:27<00:00, 18.00it/s]\n",
      "[Parallel(n_jobs=8)]: Done 500 out of 500 | elapsed:   28.7s finished\n",
      "[Parallel(n_jobs=8)]: Using backend LokyBackend with 8 concurrent workers.\n"
     ]
    },
    {
     "name": "stdout",
     "output_type": "stream",
     "text": [
      "q=0.8, xeff=0.3\n"
     ]
    },
    {
     "name": "stderr",
     "output_type": "stream",
     "text": [
      "[Parallel(n_jobs=8)]: Done  34 tasks      | elapsed:    2.3s\n",
      "[Parallel(n_jobs=8)]: Done 184 tasks      | elapsed:   10.5s\n",
      "[Parallel(n_jobs=8)]: Done 434 tasks      | elapsed:   25.9s\n",
      "Building a1 cache: 100%|██████████| 500/500 [00:28<00:00, 17.35it/s]\n",
      "[Parallel(n_jobs=8)]: Done 500 out of 500 | elapsed:   29.9s finished\n",
      "[Parallel(n_jobs=8)]: Using backend LokyBackend with 8 concurrent workers.\n"
     ]
    },
    {
     "name": "stdout",
     "output_type": "stream",
     "text": [
      "q=0.8, xeff=0.4\n"
     ]
    },
    {
     "name": "stderr",
     "output_type": "stream",
     "text": [
      "[Parallel(n_jobs=8)]: Done  34 tasks      | elapsed:    2.5s\n",
      "[Parallel(n_jobs=8)]: Done 184 tasks      | elapsed:   11.8s\n",
      "[Parallel(n_jobs=8)]: Done 434 tasks      | elapsed:   26.0s\n",
      "Building a1 cache: 100%|██████████| 500/500 [00:28<00:00, 17.45it/s]\n",
      "[Parallel(n_jobs=8)]: Done 500 out of 500 | elapsed:   29.5s finished\n",
      "[Parallel(n_jobs=8)]: Using backend LokyBackend with 8 concurrent workers.\n"
     ]
    },
    {
     "name": "stdout",
     "output_type": "stream",
     "text": [
      "q=0.8, xeff=0.5\n"
     ]
    },
    {
     "name": "stderr",
     "output_type": "stream",
     "text": [
      "[Parallel(n_jobs=8)]: Done  34 tasks      | elapsed:    2.5s\n",
      "[Parallel(n_jobs=8)]: Done 184 tasks      | elapsed:   10.9s\n",
      "[Parallel(n_jobs=8)]: Done 434 tasks      | elapsed:   25.0s\n",
      "Building a1 cache: 100%|██████████| 500/500 [00:27<00:00, 18.06it/s]\n",
      "[Parallel(n_jobs=8)]: Done 500 out of 500 | elapsed:   28.6s finished\n",
      "[Parallel(n_jobs=8)]: Using backend LokyBackend with 8 concurrent workers.\n"
     ]
    },
    {
     "name": "stdout",
     "output_type": "stream",
     "text": [
      "q=0.8, xeff=0.6\n"
     ]
    },
    {
     "name": "stderr",
     "output_type": "stream",
     "text": [
      "[Parallel(n_jobs=8)]: Done  34 tasks      | elapsed:    2.4s\n",
      "[Parallel(n_jobs=8)]: Done 184 tasks      | elapsed:   10.8s\n",
      "[Parallel(n_jobs=8)]: Done 434 tasks      | elapsed:   25.0s\n",
      "Building a1 cache: 100%|██████████| 500/500 [00:27<00:00, 18.08it/s]\n",
      "[Parallel(n_jobs=8)]: Done 500 out of 500 | elapsed:   28.5s finished\n",
      "[Parallel(n_jobs=8)]: Using backend LokyBackend with 8 concurrent workers.\n"
     ]
    },
    {
     "name": "stdout",
     "output_type": "stream",
     "text": [
      "q=0.8, xeff=0.7\n"
     ]
    },
    {
     "name": "stderr",
     "output_type": "stream",
     "text": [
      "[Parallel(n_jobs=8)]: Done  34 tasks      | elapsed:    2.3s\n",
      "[Parallel(n_jobs=8)]: Done 184 tasks      | elapsed:   10.6s\n",
      "[Parallel(n_jobs=8)]: Done 434 tasks      | elapsed:   24.7s\n",
      "Building a1 cache: 100%|██████████| 500/500 [00:27<00:00, 18.24it/s]\n",
      "[Parallel(n_jobs=8)]: Done 500 out of 500 | elapsed:   28.3s finished\n",
      "[Parallel(n_jobs=8)]: Using backend LokyBackend with 8 concurrent workers.\n"
     ]
    },
    {
     "name": "stdout",
     "output_type": "stream",
     "text": [
      "q=0.8, xeff=0.8\n"
     ]
    },
    {
     "name": "stderr",
     "output_type": "stream",
     "text": [
      "[Parallel(n_jobs=8)]: Done  34 tasks      | elapsed:    2.4s\n",
      "[Parallel(n_jobs=8)]: Done 184 tasks      | elapsed:   10.7s\n",
      "[Parallel(n_jobs=8)]: Done 434 tasks      | elapsed:   24.9s\n",
      "Building a1 cache: 100%|██████████| 500/500 [00:27<00:00, 18.19it/s]\n",
      "[Parallel(n_jobs=8)]: Done 500 out of 500 | elapsed:   28.4s finished\n",
      "[Parallel(n_jobs=8)]: Using backend LokyBackend with 8 concurrent workers.\n"
     ]
    },
    {
     "name": "stdout",
     "output_type": "stream",
     "text": [
      "q=0.8, xeff=0.9\n"
     ]
    },
    {
     "name": "stderr",
     "output_type": "stream",
     "text": [
      "[Parallel(n_jobs=8)]: Done  34 tasks      | elapsed:    2.3s\n",
      "[Parallel(n_jobs=8)]: Done 184 tasks      | elapsed:   10.6s\n",
      "[Parallel(n_jobs=8)]: Done 434 tasks      | elapsed:   24.7s\n",
      "Building a1 cache: 100%|██████████| 500/500 [00:27<00:00, 18.30it/s]\n",
      "[Parallel(n_jobs=8)]: Done 500 out of 500 | elapsed:   28.2s finished\n",
      "[Parallel(n_jobs=8)]: Using backend LokyBackend with 8 concurrent workers.\n"
     ]
    },
    {
     "name": "stdout",
     "output_type": "stream",
     "text": [
      "q=0.9, xeff=0.1\n"
     ]
    },
    {
     "name": "stderr",
     "output_type": "stream",
     "text": [
      "[Parallel(n_jobs=8)]: Done  34 tasks      | elapsed:    2.4s\n",
      "[Parallel(n_jobs=8)]: Done 184 tasks      | elapsed:   10.8s\n",
      "[Parallel(n_jobs=8)]: Done 434 tasks      | elapsed:   25.0s\n",
      "Building a1 cache: 100%|██████████| 500/500 [00:27<00:00, 18.01it/s]\n",
      "[Parallel(n_jobs=8)]: Done 500 out of 500 | elapsed:   28.7s finished\n",
      "[Parallel(n_jobs=8)]: Using backend LokyBackend with 8 concurrent workers.\n"
     ]
    },
    {
     "name": "stdout",
     "output_type": "stream",
     "text": [
      "q=0.9, xeff=0.2\n"
     ]
    },
    {
     "name": "stderr",
     "output_type": "stream",
     "text": [
      "[Parallel(n_jobs=8)]: Done  34 tasks      | elapsed:    2.3s\n",
      "[Parallel(n_jobs=8)]: Done 184 tasks      | elapsed:   10.7s\n",
      "[Parallel(n_jobs=8)]: Done 434 tasks      | elapsed:   24.9s\n",
      "Building a1 cache: 100%|██████████| 500/500 [00:28<00:00, 17.41it/s]\n",
      "[Parallel(n_jobs=8)]: Done 500 out of 500 | elapsed:   29.6s finished\n",
      "[Parallel(n_jobs=8)]: Using backend LokyBackend with 8 concurrent workers.\n"
     ]
    },
    {
     "name": "stdout",
     "output_type": "stream",
     "text": [
      "q=0.9, xeff=0.3\n"
     ]
    },
    {
     "name": "stderr",
     "output_type": "stream",
     "text": [
      "[Parallel(n_jobs=8)]: Done  34 tasks      | elapsed:    2.3s\n",
      "[Parallel(n_jobs=8)]: Done 184 tasks      | elapsed:   10.7s\n",
      "[Parallel(n_jobs=8)]: Done 434 tasks      | elapsed:   24.6s\n",
      "Building a1 cache: 100%|██████████| 500/500 [00:27<00:00, 18.33it/s]\n",
      "[Parallel(n_jobs=8)]: Done 500 out of 500 | elapsed:   28.3s finished\n",
      "[Parallel(n_jobs=8)]: Using backend LokyBackend with 8 concurrent workers.\n"
     ]
    },
    {
     "name": "stdout",
     "output_type": "stream",
     "text": [
      "q=0.9, xeff=0.4\n"
     ]
    },
    {
     "name": "stderr",
     "output_type": "stream",
     "text": [
      "[Parallel(n_jobs=8)]: Done  34 tasks      | elapsed:    2.4s\n",
      "[Parallel(n_jobs=8)]: Done 184 tasks      | elapsed:   10.7s\n",
      "[Parallel(n_jobs=8)]: Done 434 tasks      | elapsed:   24.9s\n",
      "Building a1 cache: 100%|██████████| 500/500 [00:27<00:00, 18.08it/s]\n",
      "[Parallel(n_jobs=8)]: Done 500 out of 500 | elapsed:   28.5s finished\n",
      "[Parallel(n_jobs=8)]: Using backend LokyBackend with 8 concurrent workers.\n"
     ]
    },
    {
     "name": "stdout",
     "output_type": "stream",
     "text": [
      "q=0.9, xeff=0.5\n"
     ]
    },
    {
     "name": "stderr",
     "output_type": "stream",
     "text": [
      "[Parallel(n_jobs=8)]: Done  34 tasks      | elapsed:    2.3s\n",
      "[Parallel(n_jobs=8)]: Done 184 tasks      | elapsed:   10.6s\n",
      "[Parallel(n_jobs=8)]: Done 434 tasks      | elapsed:   25.0s\n",
      "Building a1 cache: 100%|██████████| 500/500 [00:27<00:00, 18.08it/s]\n",
      "[Parallel(n_jobs=8)]: Done 500 out of 500 | elapsed:   28.5s finished\n",
      "[Parallel(n_jobs=8)]: Using backend LokyBackend with 8 concurrent workers.\n"
     ]
    },
    {
     "name": "stdout",
     "output_type": "stream",
     "text": [
      "q=0.9, xeff=0.6\n"
     ]
    },
    {
     "name": "stderr",
     "output_type": "stream",
     "text": [
      "[Parallel(n_jobs=8)]: Done  34 tasks      | elapsed:    2.3s\n",
      "[Parallel(n_jobs=8)]: Done 184 tasks      | elapsed:   10.7s\n",
      "[Parallel(n_jobs=8)]: Done 434 tasks      | elapsed:   25.3s\n",
      "Building a1 cache: 100%|██████████| 500/500 [00:28<00:00, 17.82it/s]\n",
      "[Parallel(n_jobs=8)]: Done 500 out of 500 | elapsed:   28.8s finished\n",
      "[Parallel(n_jobs=8)]: Using backend LokyBackend with 8 concurrent workers.\n"
     ]
    },
    {
     "name": "stdout",
     "output_type": "stream",
     "text": [
      "q=0.9, xeff=0.7\n"
     ]
    },
    {
     "name": "stderr",
     "output_type": "stream",
     "text": [
      "[Parallel(n_jobs=8)]: Done  34 tasks      | elapsed:    2.0s\n",
      "[Parallel(n_jobs=8)]: Done 184 tasks      | elapsed:    9.3s\n",
      "[Parallel(n_jobs=8)]: Done 434 tasks      | elapsed:   22.0s\n",
      "Building a1 cache: 100%|██████████| 500/500 [00:24<00:00, 20.43it/s]\n",
      "[Parallel(n_jobs=8)]: Done 500 out of 500 | elapsed:   25.2s finished\n",
      "[Parallel(n_jobs=8)]: Using backend LokyBackend with 8 concurrent workers.\n"
     ]
    },
    {
     "name": "stdout",
     "output_type": "stream",
     "text": [
      "q=0.9, xeff=0.8\n"
     ]
    },
    {
     "name": "stderr",
     "output_type": "stream",
     "text": [
      "[Parallel(n_jobs=8)]: Done  34 tasks      | elapsed:    2.0s\n",
      "[Parallel(n_jobs=8)]: Done 184 tasks      | elapsed:    9.3s\n",
      "[Parallel(n_jobs=8)]: Done 434 tasks      | elapsed:   21.8s\n",
      "Building a1 cache: 100%|██████████| 500/500 [00:24<00:00, 20.67it/s]\n",
      "[Parallel(n_jobs=8)]: Done 500 out of 500 | elapsed:   24.9s finished\n",
      "[Parallel(n_jobs=8)]: Using backend LokyBackend with 8 concurrent workers.\n"
     ]
    },
    {
     "name": "stdout",
     "output_type": "stream",
     "text": [
      "q=0.9, xeff=0.9\n"
     ]
    },
    {
     "name": "stderr",
     "output_type": "stream",
     "text": [
      "[Parallel(n_jobs=8)]: Done  34 tasks      | elapsed:    1.9s\n",
      "[Parallel(n_jobs=8)]: Done 184 tasks      | elapsed:    9.4s\n",
      "[Parallel(n_jobs=8)]: Done 434 tasks      | elapsed:   21.9s\n",
      "Building a1 cache: 100%|██████████| 500/500 [00:24<00:00, 20.54it/s]\n",
      "[Parallel(n_jobs=8)]: Done 500 out of 500 | elapsed:   25.0s finished\n",
      "[Parallel(n_jobs=8)]: Using backend LokyBackend with 8 concurrent workers.\n"
     ]
    },
    {
     "name": "stdout",
     "output_type": "stream",
     "text": [
      "q=1.0, xeff=0.1\n"
     ]
    },
    {
     "name": "stderr",
     "output_type": "stream",
     "text": [
      "[Parallel(n_jobs=8)]: Done  34 tasks      | elapsed:    2.0s\n",
      "[Parallel(n_jobs=8)]: Done 184 tasks      | elapsed:    9.4s\n",
      "[Parallel(n_jobs=8)]: Done 434 tasks      | elapsed:   21.9s\n",
      "Building a1 cache: 100%|██████████| 500/500 [00:24<00:00, 20.62it/s]\n",
      "[Parallel(n_jobs=8)]: Done 500 out of 500 | elapsed:   25.0s finished\n"
     ]
    },
    {
     "name": "stdout",
     "output_type": "stream",
     "text": [
      "q=1.0, xeff=0.2\n"
     ]
    },
    {
     "name": "stderr",
     "output_type": "stream",
     "text": [
      "[Parallel(n_jobs=8)]: Using backend LokyBackend with 8 concurrent workers.\n",
      "[Parallel(n_jobs=8)]: Done  34 tasks      | elapsed:    2.0s\n",
      "[Parallel(n_jobs=8)]: Done 184 tasks      | elapsed:    9.4s\n",
      "[Parallel(n_jobs=8)]: Done 434 tasks      | elapsed:   22.2s\n",
      "Building a1 cache: 100%|██████████| 500/500 [00:24<00:00, 20.23it/s]\n",
      "[Parallel(n_jobs=8)]: Done 500 out of 500 | elapsed:   25.5s finished\n",
      "[Parallel(n_jobs=8)]: Using backend LokyBackend with 8 concurrent workers.\n"
     ]
    },
    {
     "name": "stdout",
     "output_type": "stream",
     "text": [
      "q=1.0, xeff=0.3\n"
     ]
    },
    {
     "name": "stderr",
     "output_type": "stream",
     "text": [
      "[Parallel(n_jobs=8)]: Done  34 tasks      | elapsed:    2.0s\n",
      "[Parallel(n_jobs=8)]: Done 184 tasks      | elapsed:    9.3s\n",
      "[Parallel(n_jobs=8)]: Done 434 tasks      | elapsed:   21.9s\n",
      "Building a1 cache: 100%|██████████| 500/500 [00:24<00:00, 20.53it/s]\n",
      "[Parallel(n_jobs=8)]: Done 500 out of 500 | elapsed:   25.1s finished\n",
      "[Parallel(n_jobs=8)]: Using backend LokyBackend with 8 concurrent workers.\n"
     ]
    },
    {
     "name": "stdout",
     "output_type": "stream",
     "text": [
      "q=1.0, xeff=0.4\n"
     ]
    },
    {
     "name": "stderr",
     "output_type": "stream",
     "text": [
      "[Parallel(n_jobs=8)]: Done  34 tasks      | elapsed:    2.0s\n",
      "[Parallel(n_jobs=8)]: Done 184 tasks      | elapsed:    9.3s\n",
      "[Parallel(n_jobs=8)]: Done 434 tasks      | elapsed:   21.8s\n",
      "Building a1 cache: 100%|██████████| 500/500 [00:24<00:00, 20.65it/s]\n",
      "[Parallel(n_jobs=8)]: Done 500 out of 500 | elapsed:   24.9s finished\n",
      "[Parallel(n_jobs=8)]: Using backend LokyBackend with 8 concurrent workers.\n"
     ]
    },
    {
     "name": "stdout",
     "output_type": "stream",
     "text": [
      "q=1.0, xeff=0.5\n"
     ]
    },
    {
     "name": "stderr",
     "output_type": "stream",
     "text": [
      "[Parallel(n_jobs=8)]: Done  34 tasks      | elapsed:    2.1s\n",
      "[Parallel(n_jobs=8)]: Done 184 tasks      | elapsed:    9.4s\n",
      "[Parallel(n_jobs=8)]: Done 434 tasks      | elapsed:   22.0s\n",
      "Building a1 cache: 100%|██████████| 500/500 [00:24<00:00, 20.57it/s]\n",
      "[Parallel(n_jobs=8)]: Done 500 out of 500 | elapsed:   25.1s finished\n",
      "[Parallel(n_jobs=8)]: Using backend LokyBackend with 8 concurrent workers.\n"
     ]
    },
    {
     "name": "stdout",
     "output_type": "stream",
     "text": [
      "q=1.0, xeff=0.6\n"
     ]
    },
    {
     "name": "stderr",
     "output_type": "stream",
     "text": [
      "[Parallel(n_jobs=8)]: Done  34 tasks      | elapsed:    2.1s\n",
      "[Parallel(n_jobs=8)]: Done 184 tasks      | elapsed:    9.4s\n",
      "[Parallel(n_jobs=8)]: Done 434 tasks      | elapsed:   22.5s\n",
      "Building a1 cache: 100%|██████████| 500/500 [00:25<00:00, 19.98it/s]\n",
      "[Parallel(n_jobs=8)]: Done 500 out of 500 | elapsed:   25.8s finished\n",
      "[Parallel(n_jobs=8)]: Using backend LokyBackend with 8 concurrent workers.\n"
     ]
    },
    {
     "name": "stdout",
     "output_type": "stream",
     "text": [
      "q=1.0, xeff=0.7\n"
     ]
    },
    {
     "name": "stderr",
     "output_type": "stream",
     "text": [
      "[Parallel(n_jobs=8)]: Done  34 tasks      | elapsed:    2.0s\n",
      "[Parallel(n_jobs=8)]: Done 184 tasks      | elapsed:   10.2s\n",
      "[Parallel(n_jobs=8)]: Done 434 tasks      | elapsed:   24.4s\n",
      "Building a1 cache: 100%|██████████| 500/500 [00:27<00:00, 18.46it/s]\n",
      "[Parallel(n_jobs=8)]: Done 500 out of 500 | elapsed:   28.0s finished\n",
      "[Parallel(n_jobs=8)]: Using backend LokyBackend with 8 concurrent workers.\n"
     ]
    },
    {
     "name": "stdout",
     "output_type": "stream",
     "text": [
      "q=1.0, xeff=0.8\n"
     ]
    },
    {
     "name": "stderr",
     "output_type": "stream",
     "text": [
      "[Parallel(n_jobs=8)]: Done  34 tasks      | elapsed:    2.4s\n",
      "[Parallel(n_jobs=8)]: Done 184 tasks      | elapsed:   10.5s\n",
      "[Parallel(n_jobs=8)]: Done 434 tasks      | elapsed:   23.2s\n",
      "Building a1 cache: 100%|██████████| 500/500 [00:25<00:00, 19.43it/s]\n",
      "[Parallel(n_jobs=8)]: Done 500 out of 500 | elapsed:   26.5s finished\n",
      "[Parallel(n_jobs=8)]: Using backend LokyBackend with 8 concurrent workers.\n"
     ]
    },
    {
     "name": "stdout",
     "output_type": "stream",
     "text": [
      "q=1.0, xeff=0.9\n"
     ]
    },
    {
     "name": "stderr",
     "output_type": "stream",
     "text": [
      "[Parallel(n_jobs=8)]: Done  34 tasks      | elapsed:    2.0s\n",
      "[Parallel(n_jobs=8)]: Done 184 tasks      | elapsed:    9.3s\n",
      "[Parallel(n_jobs=8)]: Done 434 tasks      | elapsed:   21.9s\n",
      "Building a1 cache: 100%|██████████| 500/500 [00:24<00:00, 20.47it/s]\n",
      "[Parallel(n_jobs=8)]: Done 500 out of 500 | elapsed:   25.2s finished\n"
     ]
    }
   ],
   "source": [
    "data = []\n",
    "for i in q_range:\n",
    "    for j in xeff_range:\n",
    "        print(f\"q={i}, xeff={j}\")\n",
    "        a1_prior = get_a1_prior(q=i, xeff=j)\n",
    "        plt.plot(a1_prior.xx, a1_prior.yy)\n",
    "        plt.xlabel(\"a1\")\n",
    "        plt.ylabel(f\"p(a1|q,xeff)\")\n",
    "        plt.title(f\"q={i}, xeff={j}\")\n",
    "        plt.savefig(f\"{outdir}/p_a1_given_q_xeff_{i}_{j}.png\")\n",
    "        plt.close()\n",
    "        # save to data\n",
    "        data.append([i,j,a1_prior.xx,a1_prior.yy])\n",
    "        \n",
    "\n"
   ]
  },
  {
   "cell_type": "code",
   "execution_count": 10,
   "metadata": {},
   "outputs": [],
   "source": [
    "df = pd.DataFrame(data)"
   ]
  },
  {
   "cell_type": "code",
   "execution_count": 11,
   "metadata": {},
   "outputs": [],
   "source": [
    "df.columns = [\"q\",\"xeff\",\"a1\",\"p_a1\"]"
   ]
  },
  {
   "cell_type": "code",
   "execution_count": 12,
   "metadata": {},
   "outputs": [],
   "source": [
    "import pickle\n",
    "# save the dataframe to pickle\n",
    "with open(f\"{outdir}/p_a1_positive_xeff.pkl\", \"wb\") as f:\n",
    "    pickle.dump(df, f)"
   ]
  },
  {
   "cell_type": "code",
   "execution_count": 13,
   "metadata": {},
   "outputs": [
    {
     "data": {
      "text/html": [
       "<div>\n",
       "<style scoped>\n",
       "    .dataframe tbody tr th:only-of-type {\n",
       "        vertical-align: middle;\n",
       "    }\n",
       "\n",
       "    .dataframe tbody tr th {\n",
       "        vertical-align: top;\n",
       "    }\n",
       "\n",
       "    .dataframe thead th {\n",
       "        text-align: right;\n",
       "    }\n",
       "</style>\n",
       "<table border=\"1\" class=\"dataframe\">\n",
       "  <thead>\n",
       "    <tr style=\"text-align: right;\">\n",
       "      <th></th>\n",
       "      <th>q</th>\n",
       "      <th>xeff</th>\n",
       "      <th>a1</th>\n",
       "      <th>p_a1</th>\n",
       "    </tr>\n",
       "  </thead>\n",
       "  <tbody>\n",
       "    <tr>\n",
       "      <th>0</th>\n",
       "      <td>0.1</td>\n",
       "      <td>0.1</td>\n",
       "      <td>[0.012024048096192383, 0.014003959823454523, 0...</td>\n",
       "      <td>[0.009216418726310445, 0.028458441503637077, 0...</td>\n",
       "    </tr>\n",
       "    <tr>\n",
       "      <th>1</th>\n",
       "      <td>0.1</td>\n",
       "      <td>0.2</td>\n",
       "      <td>[0.1222444889779559, 0.12400351805816039, 0.12...</td>\n",
       "      <td>[0.0013008215791223796, 0.004041149522956928, ...</td>\n",
       "    </tr>\n",
       "    <tr>\n",
       "      <th>2</th>\n",
       "      <td>0.1</td>\n",
       "      <td>0.3</td>\n",
       "      <td>[0.23246492985971942, 0.23400307629286626, 0.2...</td>\n",
       "      <td>[0.0010697856954987733, 0.0024382824268816272,...</td>\n",
       "    </tr>\n",
       "    <tr>\n",
       "      <th>3</th>\n",
       "      <td>0.1</td>\n",
       "      <td>0.4</td>\n",
       "      <td>[0.3426853707414829, 0.3440026345275721, 0.345...</td>\n",
       "      <td>[0.0009629691381983512, 0.00222891654232283, 0...</td>\n",
       "    </tr>\n",
       "    <tr>\n",
       "      <th>4</th>\n",
       "      <td>0.1</td>\n",
       "      <td>0.5</td>\n",
       "      <td>[0.45290581162324645, 0.454002192762278, 0.455...</td>\n",
       "      <td>[0.001315515963205737, 0.0027549382395791115, ...</td>\n",
       "    </tr>\n",
       "    <tr>\n",
       "      <th>...</th>\n",
       "      <td>...</td>\n",
       "      <td>...</td>\n",
       "      <td>...</td>\n",
       "      <td>...</td>\n",
       "    </tr>\n",
       "    <tr>\n",
       "      <th>85</th>\n",
       "      <td>1.0</td>\n",
       "      <td>0.5</td>\n",
       "      <td>[0.002004008016032064, 0.004003999983935807, 0...</td>\n",
       "      <td>[0.004842086019793161, 0.00951858515585301, 0....</td>\n",
       "    </tr>\n",
       "    <tr>\n",
       "      <th>86</th>\n",
       "      <td>1.0</td>\n",
       "      <td>0.6</td>\n",
       "      <td>[0.20240480961923846, 0.2040031967743101, 0.20...</td>\n",
       "      <td>[0.0010434286955042496, 0.0013208399318507351,...</td>\n",
       "    </tr>\n",
       "    <tr>\n",
       "      <th>87</th>\n",
       "      <td>1.0</td>\n",
       "      <td>0.7</td>\n",
       "      <td>[0.40280561122244485, 0.4040023935646844, 0.40...</td>\n",
       "      <td>[0.0018007422164230593, 0.0023384387900644075,...</td>\n",
       "    </tr>\n",
       "    <tr>\n",
       "      <th>88</th>\n",
       "      <td>1.0</td>\n",
       "      <td>0.8</td>\n",
       "      <td>[0.6032064128256512, 0.6040015903550587, 0.604...</td>\n",
       "      <td>[0.0032252396366210193, 0.004504994041532742, ...</td>\n",
       "    </tr>\n",
       "    <tr>\n",
       "      <th>89</th>\n",
       "      <td>1.0</td>\n",
       "      <td>0.9</td>\n",
       "      <td>[0.8036072144288576, 0.8040007871454331, 0.804...</td>\n",
       "      <td>[0.027112218815555603, 0.03243686299175742, 0....</td>\n",
       "    </tr>\n",
       "  </tbody>\n",
       "</table>\n",
       "<p>90 rows × 4 columns</p>\n",
       "</div>"
      ],
      "text/plain": [
       "      q  xeff                                                 a1  \\\n",
       "0   0.1   0.1  [0.012024048096192383, 0.014003959823454523, 0...   \n",
       "1   0.1   0.2  [0.1222444889779559, 0.12400351805816039, 0.12...   \n",
       "2   0.1   0.3  [0.23246492985971942, 0.23400307629286626, 0.2...   \n",
       "3   0.1   0.4  [0.3426853707414829, 0.3440026345275721, 0.345...   \n",
       "4   0.1   0.5  [0.45290581162324645, 0.454002192762278, 0.455...   \n",
       "..  ...   ...                                                ...   \n",
       "85  1.0   0.5  [0.002004008016032064, 0.004003999983935807, 0...   \n",
       "86  1.0   0.6  [0.20240480961923846, 0.2040031967743101, 0.20...   \n",
       "87  1.0   0.7  [0.40280561122244485, 0.4040023935646844, 0.40...   \n",
       "88  1.0   0.8  [0.6032064128256512, 0.6040015903550587, 0.604...   \n",
       "89  1.0   0.9  [0.8036072144288576, 0.8040007871454331, 0.804...   \n",
       "\n",
       "                                                 p_a1  \n",
       "0   [0.009216418726310445, 0.028458441503637077, 0...  \n",
       "1   [0.0013008215791223796, 0.004041149522956928, ...  \n",
       "2   [0.0010697856954987733, 0.0024382824268816272,...  \n",
       "3   [0.0009629691381983512, 0.00222891654232283, 0...  \n",
       "4   [0.001315515963205737, 0.0027549382395791115, ...  \n",
       "..                                                ...  \n",
       "85  [0.004842086019793161, 0.00951858515585301, 0....  \n",
       "86  [0.0010434286955042496, 0.0013208399318507351,...  \n",
       "87  [0.0018007422164230593, 0.0023384387900644075,...  \n",
       "88  [0.0032252396366210193, 0.004504994041532742, ...  \n",
       "89  [0.027112218815555603, 0.03243686299175742, 0....  \n",
       "\n",
       "[90 rows x 4 columns]"
      ]
     },
     "execution_count": 13,
     "metadata": {},
     "output_type": "execute_result"
    }
   ],
   "source": [
    "df"
   ]
  },
  {
   "cell_type": "markdown",
   "metadata": {},
   "source": [
    "Some data contains nans, remove them so that they won't cause problems later."
   ]
  },
  {
   "cell_type": "code",
   "execution_count": 14,
   "metadata": {},
   "outputs": [],
   "source": [
    "# test pickle file\n",
    "out = pd.read_pickle(f\"{outdir}/p_a1_positive_xeff.pkl\")"
   ]
  },
  {
   "cell_type": "code",
   "execution_count": 15,
   "metadata": {},
   "outputs": [
    {
     "data": {
      "text/html": [
       "<div>\n",
       "<style scoped>\n",
       "    .dataframe tbody tr th:only-of-type {\n",
       "        vertical-align: middle;\n",
       "    }\n",
       "\n",
       "    .dataframe tbody tr th {\n",
       "        vertical-align: top;\n",
       "    }\n",
       "\n",
       "    .dataframe thead th {\n",
       "        text-align: right;\n",
       "    }\n",
       "</style>\n",
       "<table border=\"1\" class=\"dataframe\">\n",
       "  <thead>\n",
       "    <tr style=\"text-align: right;\">\n",
       "      <th></th>\n",
       "      <th>q</th>\n",
       "      <th>xeff</th>\n",
       "      <th>a1</th>\n",
       "      <th>p_a1</th>\n",
       "    </tr>\n",
       "  </thead>\n",
       "  <tbody>\n",
       "    <tr>\n",
       "      <th>0</th>\n",
       "      <td>0.1</td>\n",
       "      <td>0.1</td>\n",
       "      <td>[0.012024048096192383, 0.014003959823454523, 0...</td>\n",
       "      <td>[0.009216418726310445, 0.028458441503637077, 0...</td>\n",
       "    </tr>\n",
       "    <tr>\n",
       "      <th>1</th>\n",
       "      <td>0.1</td>\n",
       "      <td>0.2</td>\n",
       "      <td>[0.1222444889779559, 0.12400351805816039, 0.12...</td>\n",
       "      <td>[0.0013008215791223796, 0.004041149522956928, ...</td>\n",
       "    </tr>\n",
       "    <tr>\n",
       "      <th>2</th>\n",
       "      <td>0.1</td>\n",
       "      <td>0.3</td>\n",
       "      <td>[0.23246492985971942, 0.23400307629286626, 0.2...</td>\n",
       "      <td>[0.0010697856954987733, 0.0024382824268816272,...</td>\n",
       "    </tr>\n",
       "    <tr>\n",
       "      <th>3</th>\n",
       "      <td>0.1</td>\n",
       "      <td>0.4</td>\n",
       "      <td>[0.3426853707414829, 0.3440026345275721, 0.345...</td>\n",
       "      <td>[0.0009629691381983512, 0.00222891654232283, 0...</td>\n",
       "    </tr>\n",
       "    <tr>\n",
       "      <th>4</th>\n",
       "      <td>0.1</td>\n",
       "      <td>0.5</td>\n",
       "      <td>[0.45290581162324645, 0.454002192762278, 0.455...</td>\n",
       "      <td>[0.001315515963205737, 0.0027549382395791115, ...</td>\n",
       "    </tr>\n",
       "    <tr>\n",
       "      <th>...</th>\n",
       "      <td>...</td>\n",
       "      <td>...</td>\n",
       "      <td>...</td>\n",
       "      <td>...</td>\n",
       "    </tr>\n",
       "    <tr>\n",
       "      <th>85</th>\n",
       "      <td>1.0</td>\n",
       "      <td>0.5</td>\n",
       "      <td>[0.002004008016032064, 0.004003999983935807, 0...</td>\n",
       "      <td>[0.004842086019793161, 0.00951858515585301, 0....</td>\n",
       "    </tr>\n",
       "    <tr>\n",
       "      <th>86</th>\n",
       "      <td>1.0</td>\n",
       "      <td>0.6</td>\n",
       "      <td>[0.20240480961923846, 0.2040031967743101, 0.20...</td>\n",
       "      <td>[0.0010434286955042496, 0.0013208399318507351,...</td>\n",
       "    </tr>\n",
       "    <tr>\n",
       "      <th>87</th>\n",
       "      <td>1.0</td>\n",
       "      <td>0.7</td>\n",
       "      <td>[0.40280561122244485, 0.4040023935646844, 0.40...</td>\n",
       "      <td>[0.0018007422164230593, 0.0023384387900644075,...</td>\n",
       "    </tr>\n",
       "    <tr>\n",
       "      <th>88</th>\n",
       "      <td>1.0</td>\n",
       "      <td>0.8</td>\n",
       "      <td>[0.6032064128256512, 0.6040015903550587, 0.604...</td>\n",
       "      <td>[0.0032252396366210193, 0.004504994041532742, ...</td>\n",
       "    </tr>\n",
       "    <tr>\n",
       "      <th>89</th>\n",
       "      <td>1.0</td>\n",
       "      <td>0.9</td>\n",
       "      <td>[0.8036072144288576, 0.8040007871454331, 0.804...</td>\n",
       "      <td>[0.027112218815555603, 0.03243686299175742, 0....</td>\n",
       "    </tr>\n",
       "  </tbody>\n",
       "</table>\n",
       "<p>90 rows × 4 columns</p>\n",
       "</div>"
      ],
      "text/plain": [
       "      q  xeff                                                 a1  \\\n",
       "0   0.1   0.1  [0.012024048096192383, 0.014003959823454523, 0...   \n",
       "1   0.1   0.2  [0.1222444889779559, 0.12400351805816039, 0.12...   \n",
       "2   0.1   0.3  [0.23246492985971942, 0.23400307629286626, 0.2...   \n",
       "3   0.1   0.4  [0.3426853707414829, 0.3440026345275721, 0.345...   \n",
       "4   0.1   0.5  [0.45290581162324645, 0.454002192762278, 0.455...   \n",
       "..  ...   ...                                                ...   \n",
       "85  1.0   0.5  [0.002004008016032064, 0.004003999983935807, 0...   \n",
       "86  1.0   0.6  [0.20240480961923846, 0.2040031967743101, 0.20...   \n",
       "87  1.0   0.7  [0.40280561122244485, 0.4040023935646844, 0.40...   \n",
       "88  1.0   0.8  [0.6032064128256512, 0.6040015903550587, 0.604...   \n",
       "89  1.0   0.9  [0.8036072144288576, 0.8040007871454331, 0.804...   \n",
       "\n",
       "                                                 p_a1  \n",
       "0   [0.009216418726310445, 0.028458441503637077, 0...  \n",
       "1   [0.0013008215791223796, 0.004041149522956928, ...  \n",
       "2   [0.0010697856954987733, 0.0024382824268816272,...  \n",
       "3   [0.0009629691381983512, 0.00222891654232283, 0...  \n",
       "4   [0.001315515963205737, 0.0027549382395791115, ...  \n",
       "..                                                ...  \n",
       "85  [0.004842086019793161, 0.00951858515585301, 0....  \n",
       "86  [0.0010434286955042496, 0.0013208399318507351,...  \n",
       "87  [0.0018007422164230593, 0.0023384387900644075,...  \n",
       "88  [0.0032252396366210193, 0.004504994041532742, ...  \n",
       "89  [0.027112218815555603, 0.03243686299175742, 0....  \n",
       "\n",
       "[90 rows x 4 columns]"
      ]
     },
     "execution_count": 15,
     "metadata": {},
     "output_type": "execute_result"
    }
   ],
   "source": [
    "out"
   ]
  },
  {
   "cell_type": "code",
   "execution_count": null,
   "metadata": {},
   "outputs": [],
   "source": []
  }
 ],
 "metadata": {
  "interpreter": {
   "hash": "541143602329a03f71f32a0a160c785fb8ee263553dc2658377783b6f80d17e9"
  },
  "kernelspec": {
   "display_name": "Python 3.8.5",
   "language": "python",
   "name": "python3"
  },
  "language_info": {
   "codemirror_mode": {
    "name": "ipython",
    "version": 3
   },
   "file_extension": ".py",
   "mimetype": "text/x-python",
   "name": "python",
   "nbconvert_exporter": "python",
   "pygments_lexer": "ipython3",
   "version": "3.8.3"
  },
  "orig_nbformat": 4
 },
 "nbformat": 4,
 "nbformat_minor": 2
}
